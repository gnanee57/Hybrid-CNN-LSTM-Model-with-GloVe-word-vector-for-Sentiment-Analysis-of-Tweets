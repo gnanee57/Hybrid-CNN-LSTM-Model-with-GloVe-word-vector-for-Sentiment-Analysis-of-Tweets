{
 "cells": [
  {
   "cell_type": "markdown",
   "id": "be63ef44",
   "metadata": {
    "papermill": {
     "duration": 0.063809,
     "end_time": "2022-05-28T18:32:11.099637",
     "exception": false,
     "start_time": "2022-05-28T18:32:11.035828",
     "status": "completed"
    },
    "pycharm": {
     "name": "#%% md\n"
    },
    "tags": []
   },
   "source": [
    "# Hybrid CNN-LSTM Model using GloVe vector for Sentiment Analysis of Football Specific Tweets"
   ]
  },
  {
   "cell_type": "markdown",
   "id": "97157e53",
   "metadata": {
    "papermill": {
     "duration": 0.122685,
     "end_time": "2022-05-28T18:32:11.293946",
     "exception": false,
     "start_time": "2022-05-28T18:32:11.171261",
     "status": "completed"
    },
    "pycharm": {
     "name": "#%% md\n"
    },
    "tags": []
   },
   "source": [
    "## Libraries"
   ]
  },
  {
   "cell_type": "code",
   "execution_count": 1,
   "id": "dde57960",
   "metadata": {
    "execution": {
     "iopub.execute_input": "2022-05-28T18:32:11.442252Z",
     "iopub.status.busy": "2022-05-28T18:32:11.440097Z",
     "iopub.status.idle": "2022-05-28T18:32:18.341163Z",
     "shell.execute_reply": "2022-05-28T18:32:18.340498Z",
     "shell.execute_reply.started": "2022-05-28T17:45:47.849814Z"
    },
    "papermill": {
     "duration": 6.978675,
     "end_time": "2022-05-28T18:32:18.341416",
     "exception": false,
     "start_time": "2022-05-28T18:32:11.362741",
     "status": "completed"
    },
    "pycharm": {
     "name": "#%%\n"
    },
    "tags": []
   },
   "outputs": [
    {
     "name": "stderr",
     "output_type": "stream",
     "text": [
      "2022-05-28 18:32:13.381013: I tensorflow/stream_executor/platform/default/dso_loader.cc:49] Successfully opened dynamic library libcudart.so.11.0\n"
     ]
    }
   ],
   "source": [
    "import os\n",
    "# Regular expressions\n",
    "import re\n",
    "\n",
    "# Data and visualization\n",
    "import pandas as pd\n",
    "import seaborn as sns\n",
    "import matplotlib.pyplot as plt\n",
    "\n",
    "# Calculations\n",
    "import numpy as np\n",
    "\n",
    "# Machine Learning\n",
    "from sklearn.model_selection import train_test_split\n",
    "from sklearn.metrics import classification_report\n",
    "\n",
    "# Deep Learning\n",
    "import tensorflow as tf"
   ]
  },
  {
   "cell_type": "markdown",
   "id": "c12836d9",
   "metadata": {
    "papermill": {
     "duration": 0.063308,
     "end_time": "2022-05-28T18:32:18.467578",
     "exception": false,
     "start_time": "2022-05-28T18:32:18.404270",
     "status": "completed"
    },
    "pycharm": {
     "name": "#%% md\n"
    },
    "tags": []
   },
   "source": [
    "## Exploring the Dataset"
   ]
  },
  {
   "cell_type": "markdown",
   "id": "c5c84738",
   "metadata": {
    "papermill": {
     "duration": 0.062773,
     "end_time": "2022-05-28T18:32:18.592712",
     "exception": false,
     "start_time": "2022-05-28T18:32:18.529939",
     "status": "completed"
    },
    "pycharm": {
     "name": "#%% md\n"
    },
    "tags": []
   },
   "source": [
    "### Load"
   ]
  },
  {
   "cell_type": "code",
   "execution_count": 2,
   "id": "8785cc3e",
   "metadata": {
    "execution": {
     "iopub.execute_input": "2022-05-28T18:32:18.723536Z",
     "iopub.status.busy": "2022-05-28T18:32:18.722865Z",
     "iopub.status.idle": "2022-05-28T18:32:25.065271Z",
     "shell.execute_reply": "2022-05-28T18:32:25.064687Z",
     "shell.execute_reply.started": "2022-05-27T17:43:18.004179Z"
    },
    "papermill": {
     "duration": 6.410873,
     "end_time": "2022-05-28T18:32:25.065467",
     "exception": false,
     "start_time": "2022-05-28T18:32:18.654594",
     "status": "completed"
    },
    "pycharm": {
     "name": "#%%\n"
    },
    "tags": []
   },
   "outputs": [],
   "source": [
    "dataset = pd.read_csv(\"/kaggle/input/twitter-sentiment-analysis-and-word-embeddings/Dataset/Dataset/training_dataset.csv\", encoding=\"latin\", header=None,\n",
    "                      names=[\"target\",\"id\", \"date\",\"query\",\"username\",\"tweet\"])"
   ]
  },
  {
   "cell_type": "markdown",
   "id": "46d5cb09",
   "metadata": {
    "papermill": {
     "duration": 0.063075,
     "end_time": "2022-05-28T18:32:25.191655",
     "exception": false,
     "start_time": "2022-05-28T18:32:25.128580",
     "status": "completed"
    },
    "pycharm": {
     "name": "#%% md\n"
    },
    "tags": []
   },
   "source": [
    "### Show some Examples"
   ]
  },
  {
   "cell_type": "code",
   "execution_count": 3,
   "id": "27195db4",
   "metadata": {
    "execution": {
     "iopub.execute_input": "2022-05-28T18:32:25.333914Z",
     "iopub.status.busy": "2022-05-28T18:32:25.332090Z",
     "iopub.status.idle": "2022-05-28T18:32:25.355818Z",
     "shell.execute_reply": "2022-05-28T18:32:25.356485Z",
     "shell.execute_reply.started": "2022-05-27T17:43:24.249797Z"
    },
    "papermill": {
     "duration": 0.100076,
     "end_time": "2022-05-28T18:32:25.356664",
     "exception": false,
     "start_time": "2022-05-28T18:32:25.256588",
     "status": "completed"
    },
    "pycharm": {
     "name": "#%%\n"
    },
    "tags": []
   },
   "outputs": [
    {
     "data": {
      "text/html": [
       "<div>\n",
       "<style scoped>\n",
       "    .dataframe tbody tr th:only-of-type {\n",
       "        vertical-align: middle;\n",
       "    }\n",
       "\n",
       "    .dataframe tbody tr th {\n",
       "        vertical-align: top;\n",
       "    }\n",
       "\n",
       "    .dataframe thead th {\n",
       "        text-align: right;\n",
       "    }\n",
       "</style>\n",
       "<table border=\"1\" class=\"dataframe\">\n",
       "  <thead>\n",
       "    <tr style=\"text-align: right;\">\n",
       "      <th></th>\n",
       "      <th>target</th>\n",
       "      <th>id</th>\n",
       "      <th>date</th>\n",
       "      <th>query</th>\n",
       "      <th>username</th>\n",
       "      <th>tweet</th>\n",
       "    </tr>\n",
       "  </thead>\n",
       "  <tbody>\n",
       "    <tr>\n",
       "      <th>0</th>\n",
       "      <td>0</td>\n",
       "      <td>1467810369</td>\n",
       "      <td>Mon Apr 06 22:19:45 PDT 2009</td>\n",
       "      <td>NO_QUERY</td>\n",
       "      <td>_TheSpecialOne_</td>\n",
       "      <td>@switchfoot http://twitpic.com/2y1zl - Awww, t...</td>\n",
       "    </tr>\n",
       "    <tr>\n",
       "      <th>1</th>\n",
       "      <td>0</td>\n",
       "      <td>1467810672</td>\n",
       "      <td>Mon Apr 06 22:19:49 PDT 2009</td>\n",
       "      <td>NO_QUERY</td>\n",
       "      <td>scotthamilton</td>\n",
       "      <td>is upset that he can't update his Facebook by ...</td>\n",
       "    </tr>\n",
       "    <tr>\n",
       "      <th>2</th>\n",
       "      <td>0</td>\n",
       "      <td>1467810917</td>\n",
       "      <td>Mon Apr 06 22:19:53 PDT 2009</td>\n",
       "      <td>NO_QUERY</td>\n",
       "      <td>mattycus</td>\n",
       "      <td>@Kenichan I dived many times for the ball. Man...</td>\n",
       "    </tr>\n",
       "    <tr>\n",
       "      <th>3</th>\n",
       "      <td>0</td>\n",
       "      <td>1467811184</td>\n",
       "      <td>Mon Apr 06 22:19:57 PDT 2009</td>\n",
       "      <td>NO_QUERY</td>\n",
       "      <td>ElleCTF</td>\n",
       "      <td>my whole body feels itchy and like its on fire</td>\n",
       "    </tr>\n",
       "    <tr>\n",
       "      <th>4</th>\n",
       "      <td>0</td>\n",
       "      <td>1467811193</td>\n",
       "      <td>Mon Apr 06 22:19:57 PDT 2009</td>\n",
       "      <td>NO_QUERY</td>\n",
       "      <td>Karoli</td>\n",
       "      <td>@nationwideclass no, it's not behaving at all....</td>\n",
       "    </tr>\n",
       "  </tbody>\n",
       "</table>\n",
       "</div>"
      ],
      "text/plain": [
       "   target          id                          date     query  \\\n",
       "0       0  1467810369  Mon Apr 06 22:19:45 PDT 2009  NO_QUERY   \n",
       "1       0  1467810672  Mon Apr 06 22:19:49 PDT 2009  NO_QUERY   \n",
       "2       0  1467810917  Mon Apr 06 22:19:53 PDT 2009  NO_QUERY   \n",
       "3       0  1467811184  Mon Apr 06 22:19:57 PDT 2009  NO_QUERY   \n",
       "4       0  1467811193  Mon Apr 06 22:19:57 PDT 2009  NO_QUERY   \n",
       "\n",
       "          username                                              tweet  \n",
       "0  _TheSpecialOne_  @switchfoot http://twitpic.com/2y1zl - Awww, t...  \n",
       "1    scotthamilton  is upset that he can't update his Facebook by ...  \n",
       "2         mattycus  @Kenichan I dived many times for the ball. Man...  \n",
       "3          ElleCTF    my whole body feels itchy and like its on fire   \n",
       "4           Karoli  @nationwideclass no, it's not behaving at all....  "
      ]
     },
     "execution_count": 3,
     "metadata": {},
     "output_type": "execute_result"
    }
   ],
   "source": [
    "dataset.head(5)"
   ]
  },
  {
   "cell_type": "markdown",
   "id": "942f5780",
   "metadata": {
    "papermill": {
     "duration": 0.064754,
     "end_time": "2022-05-28T18:32:25.487720",
     "exception": false,
     "start_time": "2022-05-28T18:32:25.422966",
     "status": "completed"
    },
    "pycharm": {
     "name": "#%% md\n"
    },
    "tags": []
   },
   "source": [
    "### Check for Missing Values"
   ]
  },
  {
   "cell_type": "code",
   "execution_count": 4,
   "id": "70b4ffde",
   "metadata": {
    "execution": {
     "iopub.execute_input": "2022-05-28T18:32:25.622466Z",
     "iopub.status.busy": "2022-05-28T18:32:25.621403Z",
     "iopub.status.idle": "2022-05-28T18:32:26.184595Z",
     "shell.execute_reply": "2022-05-28T18:32:26.185378Z",
     "shell.execute_reply.started": "2022-05-27T17:43:24.417225Z"
    },
    "papermill": {
     "duration": 0.633525,
     "end_time": "2022-05-28T18:32:26.185635",
     "exception": false,
     "start_time": "2022-05-28T18:32:25.552110",
     "status": "completed"
    },
    "pycharm": {
     "name": "#%%\n"
    },
    "tags": []
   },
   "outputs": [
    {
     "name": "stdout",
     "output_type": "stream",
     "text": [
      "Missing values: \n",
      "\n",
      "target      0\n",
      "id          0\n",
      "date        0\n",
      "query       0\n",
      "username    0\n",
      "tweet       0\n",
      "dtype: int64\n"
     ]
    }
   ],
   "source": [
    "print(f\"Missing values: \\n\\n{dataset.isna().sum()}\")"
   ]
  },
  {
   "cell_type": "markdown",
   "id": "4c4aa4ca",
   "metadata": {
    "papermill": {
     "duration": 0.063638,
     "end_time": "2022-05-28T18:32:26.313526",
     "exception": false,
     "start_time": "2022-05-28T18:32:26.249888",
     "status": "completed"
    },
    "pycharm": {
     "name": "#%% md\n"
    },
    "tags": []
   },
   "source": [
    "```\n",
    "There are 0 missing values within this dataset\n",
    "```"
   ]
  },
  {
   "cell_type": "markdown",
   "id": "485f487b",
   "metadata": {
    "papermill": {
     "duration": 0.064125,
     "end_time": "2022-05-28T18:32:26.443544",
     "exception": false,
     "start_time": "2022-05-28T18:32:26.379419",
     "status": "completed"
    },
    "pycharm": {
     "name": "#%% md\n"
    },
    "tags": []
   },
   "source": [
    "## Target Distribution"
   ]
  },
  {
   "cell_type": "markdown",
   "id": "0048973f",
   "metadata": {
    "papermill": {
     "duration": 0.06552,
     "end_time": "2022-05-28T18:32:26.573862",
     "exception": false,
     "start_time": "2022-05-28T18:32:26.508342",
     "status": "completed"
    },
    "pycharm": {
     "name": "#%% md\n"
    },
    "tags": []
   },
   "source": [
    "### Negative samples (*target=4*)"
   ]
  },
  {
   "cell_type": "code",
   "execution_count": 5,
   "id": "b0be9f38",
   "metadata": {
    "execution": {
     "iopub.execute_input": "2022-05-28T18:32:26.712469Z",
     "iopub.status.busy": "2022-05-28T18:32:26.711608Z",
     "iopub.status.idle": "2022-05-28T18:32:26.812734Z",
     "shell.execute_reply": "2022-05-28T18:32:26.812225Z",
     "shell.execute_reply.started": "2022-05-27T17:43:25.019024Z"
    },
    "papermill": {
     "duration": 0.173527,
     "end_time": "2022-05-28T18:32:26.812870",
     "exception": false,
     "start_time": "2022-05-28T18:32:26.639343",
     "status": "completed"
    },
    "pycharm": {
     "name": "#%%\n"
    },
    "tags": []
   },
   "outputs": [
    {
     "name": "stdout",
     "output_type": "stream",
     "text": [
      "Number of negative samples : 800000\n",
      "\n"
     ]
    },
    {
     "data": {
      "text/html": [
       "<div>\n",
       "<style scoped>\n",
       "    .dataframe tbody tr th:only-of-type {\n",
       "        vertical-align: middle;\n",
       "    }\n",
       "\n",
       "    .dataframe tbody tr th {\n",
       "        vertical-align: top;\n",
       "    }\n",
       "\n",
       "    .dataframe thead th {\n",
       "        text-align: right;\n",
       "    }\n",
       "</style>\n",
       "<table border=\"1\" class=\"dataframe\">\n",
       "  <thead>\n",
       "    <tr style=\"text-align: right;\">\n",
       "      <th></th>\n",
       "      <th>target</th>\n",
       "      <th>id</th>\n",
       "      <th>date</th>\n",
       "      <th>query</th>\n",
       "      <th>username</th>\n",
       "      <th>tweet</th>\n",
       "    </tr>\n",
       "  </thead>\n",
       "  <tbody>\n",
       "    <tr>\n",
       "      <th>0</th>\n",
       "      <td>0</td>\n",
       "      <td>1467810369</td>\n",
       "      <td>Mon Apr 06 22:19:45 PDT 2009</td>\n",
       "      <td>NO_QUERY</td>\n",
       "      <td>_TheSpecialOne_</td>\n",
       "      <td>@switchfoot http://twitpic.com/2y1zl - Awww, t...</td>\n",
       "    </tr>\n",
       "    <tr>\n",
       "      <th>1</th>\n",
       "      <td>0</td>\n",
       "      <td>1467810672</td>\n",
       "      <td>Mon Apr 06 22:19:49 PDT 2009</td>\n",
       "      <td>NO_QUERY</td>\n",
       "      <td>scotthamilton</td>\n",
       "      <td>is upset that he can't update his Facebook by ...</td>\n",
       "    </tr>\n",
       "    <tr>\n",
       "      <th>2</th>\n",
       "      <td>0</td>\n",
       "      <td>1467810917</td>\n",
       "      <td>Mon Apr 06 22:19:53 PDT 2009</td>\n",
       "      <td>NO_QUERY</td>\n",
       "      <td>mattycus</td>\n",
       "      <td>@Kenichan I dived many times for the ball. Man...</td>\n",
       "    </tr>\n",
       "    <tr>\n",
       "      <th>3</th>\n",
       "      <td>0</td>\n",
       "      <td>1467811184</td>\n",
       "      <td>Mon Apr 06 22:19:57 PDT 2009</td>\n",
       "      <td>NO_QUERY</td>\n",
       "      <td>ElleCTF</td>\n",
       "      <td>my whole body feels itchy and like its on fire</td>\n",
       "    </tr>\n",
       "    <tr>\n",
       "      <th>4</th>\n",
       "      <td>0</td>\n",
       "      <td>1467811193</td>\n",
       "      <td>Mon Apr 06 22:19:57 PDT 2009</td>\n",
       "      <td>NO_QUERY</td>\n",
       "      <td>Karoli</td>\n",
       "      <td>@nationwideclass no, it's not behaving at all....</td>\n",
       "    </tr>\n",
       "  </tbody>\n",
       "</table>\n",
       "</div>"
      ],
      "text/plain": [
       "   target          id                          date     query  \\\n",
       "0       0  1467810369  Mon Apr 06 22:19:45 PDT 2009  NO_QUERY   \n",
       "1       0  1467810672  Mon Apr 06 22:19:49 PDT 2009  NO_QUERY   \n",
       "2       0  1467810917  Mon Apr 06 22:19:53 PDT 2009  NO_QUERY   \n",
       "3       0  1467811184  Mon Apr 06 22:19:57 PDT 2009  NO_QUERY   \n",
       "4       0  1467811193  Mon Apr 06 22:19:57 PDT 2009  NO_QUERY   \n",
       "\n",
       "          username                                              tweet  \n",
       "0  _TheSpecialOne_  @switchfoot http://twitpic.com/2y1zl - Awww, t...  \n",
       "1    scotthamilton  is upset that he can't update his Facebook by ...  \n",
       "2         mattycus  @Kenichan I dived many times for the ball. Man...  \n",
       "3          ElleCTF    my whole body feels itchy and like its on fire   \n",
       "4           Karoli  @nationwideclass no, it's not behaving at all....  "
      ]
     },
     "execution_count": 5,
     "metadata": {},
     "output_type": "execute_result"
    }
   ],
   "source": [
    "negative_samples = dataset[dataset[\"target\"]==0]\n",
    "print(f\"Number of negative samples : {len(negative_samples)}\\n\")\n",
    "negative_samples.head(5)"
   ]
  },
  {
   "cell_type": "markdown",
   "id": "36b3b326",
   "metadata": {
    "papermill": {
     "duration": 0.066073,
     "end_time": "2022-05-28T18:32:26.946519",
     "exception": false,
     "start_time": "2022-05-28T18:32:26.880446",
     "status": "completed"
    },
    "pycharm": {
     "name": "#%% md\n"
    },
    "tags": []
   },
   "source": [
    "### Neutral samples (*target=4*)"
   ]
  },
  {
   "cell_type": "code",
   "execution_count": 6,
   "id": "7add5103",
   "metadata": {
    "execution": {
     "iopub.execute_input": "2022-05-28T18:32:27.092712Z",
     "iopub.status.busy": "2022-05-28T18:32:27.091526Z",
     "iopub.status.idle": "2022-05-28T18:32:27.104654Z",
     "shell.execute_reply": "2022-05-28T18:32:27.105471Z",
     "shell.execute_reply.started": "2022-05-27T17:43:25.105347Z"
    },
    "papermill": {
     "duration": 0.091129,
     "end_time": "2022-05-28T18:32:27.105765",
     "exception": false,
     "start_time": "2022-05-28T18:32:27.014636",
     "status": "completed"
    },
    "pycharm": {
     "name": "#%%\n"
    },
    "tags": []
   },
   "outputs": [
    {
     "name": "stdout",
     "output_type": "stream",
     "text": [
      "Number of neutral samples : 0\n",
      "\n",
      "\n"
     ]
    },
    {
     "data": {
      "text/html": [
       "<div>\n",
       "<style scoped>\n",
       "    .dataframe tbody tr th:only-of-type {\n",
       "        vertical-align: middle;\n",
       "    }\n",
       "\n",
       "    .dataframe tbody tr th {\n",
       "        vertical-align: top;\n",
       "    }\n",
       "\n",
       "    .dataframe thead th {\n",
       "        text-align: right;\n",
       "    }\n",
       "</style>\n",
       "<table border=\"1\" class=\"dataframe\">\n",
       "  <thead>\n",
       "    <tr style=\"text-align: right;\">\n",
       "      <th></th>\n",
       "      <th>target</th>\n",
       "      <th>id</th>\n",
       "      <th>date</th>\n",
       "      <th>query</th>\n",
       "      <th>username</th>\n",
       "      <th>tweet</th>\n",
       "    </tr>\n",
       "  </thead>\n",
       "  <tbody>\n",
       "  </tbody>\n",
       "</table>\n",
       "</div>"
      ],
      "text/plain": [
       "Empty DataFrame\n",
       "Columns: [target, id, date, query, username, tweet]\n",
       "Index: []"
      ]
     },
     "execution_count": 6,
     "metadata": {},
     "output_type": "execute_result"
    }
   ],
   "source": [
    "neutral_samples = dataset[dataset[\"target\"]==2]\n",
    "print(f\"Number of neutral samples : {len(neutral_samples)}\\n\\n\")\n",
    "neutral_samples.head(5)"
   ]
  },
  {
   "cell_type": "markdown",
   "id": "4a7e961f",
   "metadata": {
    "papermill": {
     "duration": 0.067014,
     "end_time": "2022-05-28T18:32:27.239903",
     "exception": false,
     "start_time": "2022-05-28T18:32:27.172889",
     "status": "completed"
    },
    "pycharm": {
     "name": "#%% md\n"
    },
    "tags": []
   },
   "source": [
    "```\n",
    "0 neutral sample ? Wow\n",
    "```"
   ]
  },
  {
   "cell_type": "markdown",
   "id": "9b193421",
   "metadata": {
    "papermill": {
     "duration": 0.067686,
     "end_time": "2022-05-28T18:32:27.374764",
     "exception": false,
     "start_time": "2022-05-28T18:32:27.307078",
     "status": "completed"
    },
    "pycharm": {
     "name": "#%% md\n"
    },
    "tags": []
   },
   "source": [
    "### Positive samples (*target=4*)"
   ]
  },
  {
   "cell_type": "code",
   "execution_count": 7,
   "id": "8265c445",
   "metadata": {
    "execution": {
     "iopub.execute_input": "2022-05-28T18:32:27.517387Z",
     "iopub.status.busy": "2022-05-28T18:32:27.515982Z",
     "iopub.status.idle": "2022-05-28T18:32:27.594608Z",
     "shell.execute_reply": "2022-05-28T18:32:27.595505Z",
     "shell.execute_reply.started": "2022-05-27T17:43:25.120705Z"
    },
    "papermill": {
     "duration": 0.152287,
     "end_time": "2022-05-28T18:32:27.595713",
     "exception": false,
     "start_time": "2022-05-28T18:32:27.443426",
     "status": "completed"
    },
    "pycharm": {
     "name": "#%%\n"
    },
    "tags": []
   },
   "outputs": [
    {
     "name": "stdout",
     "output_type": "stream",
     "text": [
      "Number of positive samples 800000\n",
      "\n",
      "\n"
     ]
    },
    {
     "data": {
      "text/html": [
       "<div>\n",
       "<style scoped>\n",
       "    .dataframe tbody tr th:only-of-type {\n",
       "        vertical-align: middle;\n",
       "    }\n",
       "\n",
       "    .dataframe tbody tr th {\n",
       "        vertical-align: top;\n",
       "    }\n",
       "\n",
       "    .dataframe thead th {\n",
       "        text-align: right;\n",
       "    }\n",
       "</style>\n",
       "<table border=\"1\" class=\"dataframe\">\n",
       "  <thead>\n",
       "    <tr style=\"text-align: right;\">\n",
       "      <th></th>\n",
       "      <th>target</th>\n",
       "      <th>id</th>\n",
       "      <th>date</th>\n",
       "      <th>query</th>\n",
       "      <th>username</th>\n",
       "      <th>tweet</th>\n",
       "    </tr>\n",
       "  </thead>\n",
       "  <tbody>\n",
       "    <tr>\n",
       "      <th>800000</th>\n",
       "      <td>4</td>\n",
       "      <td>1467822272</td>\n",
       "      <td>Mon Apr 06 22:22:45 PDT 2009</td>\n",
       "      <td>NO_QUERY</td>\n",
       "      <td>ersle</td>\n",
       "      <td>I LOVE @Health4UandPets u guys r the best!!</td>\n",
       "    </tr>\n",
       "    <tr>\n",
       "      <th>800001</th>\n",
       "      <td>4</td>\n",
       "      <td>1467822273</td>\n",
       "      <td>Mon Apr 06 22:22:45 PDT 2009</td>\n",
       "      <td>NO_QUERY</td>\n",
       "      <td>becca210</td>\n",
       "      <td>im meeting up with one of my besties tonight! ...</td>\n",
       "    </tr>\n",
       "    <tr>\n",
       "      <th>800002</th>\n",
       "      <td>4</td>\n",
       "      <td>1467822283</td>\n",
       "      <td>Mon Apr 06 22:22:46 PDT 2009</td>\n",
       "      <td>NO_QUERY</td>\n",
       "      <td>Wingman29</td>\n",
       "      <td>@DaRealSunisaKim Thanks for the Twitter add, S...</td>\n",
       "    </tr>\n",
       "    <tr>\n",
       "      <th>800003</th>\n",
       "      <td>4</td>\n",
       "      <td>1467822287</td>\n",
       "      <td>Mon Apr 06 22:22:46 PDT 2009</td>\n",
       "      <td>NO_QUERY</td>\n",
       "      <td>katarinka</td>\n",
       "      <td>Being sick can be really cheap when it hurts t...</td>\n",
       "    </tr>\n",
       "    <tr>\n",
       "      <th>800004</th>\n",
       "      <td>4</td>\n",
       "      <td>1467822293</td>\n",
       "      <td>Mon Apr 06 22:22:46 PDT 2009</td>\n",
       "      <td>NO_QUERY</td>\n",
       "      <td>_EmilyYoung</td>\n",
       "      <td>@LovesBrooklyn2 he has that effect on everyone</td>\n",
       "    </tr>\n",
       "  </tbody>\n",
       "</table>\n",
       "</div>"
      ],
      "text/plain": [
       "        target          id                          date     query  \\\n",
       "800000       4  1467822272  Mon Apr 06 22:22:45 PDT 2009  NO_QUERY   \n",
       "800001       4  1467822273  Mon Apr 06 22:22:45 PDT 2009  NO_QUERY   \n",
       "800002       4  1467822283  Mon Apr 06 22:22:46 PDT 2009  NO_QUERY   \n",
       "800003       4  1467822287  Mon Apr 06 22:22:46 PDT 2009  NO_QUERY   \n",
       "800004       4  1467822293  Mon Apr 06 22:22:46 PDT 2009  NO_QUERY   \n",
       "\n",
       "           username                                              tweet  \n",
       "800000        ersle       I LOVE @Health4UandPets u guys r the best!!   \n",
       "800001     becca210  im meeting up with one of my besties tonight! ...  \n",
       "800002    Wingman29  @DaRealSunisaKim Thanks for the Twitter add, S...  \n",
       "800003    katarinka  Being sick can be really cheap when it hurts t...  \n",
       "800004  _EmilyYoung    @LovesBrooklyn2 he has that effect on everyone   "
      ]
     },
     "execution_count": 7,
     "metadata": {},
     "output_type": "execute_result"
    }
   ],
   "source": [
    "positive_samples = dataset[dataset[\"target\"]==4]\n",
    "print(f\"Number of positive samples {len(positive_samples)}\\n\\n\")\n",
    "positive_samples.head(5)"
   ]
  },
  {
   "cell_type": "markdown",
   "id": "2edc5de6",
   "metadata": {
    "papermill": {
     "duration": 0.067689,
     "end_time": "2022-05-28T18:32:27.731436",
     "exception": false,
     "start_time": "2022-05-28T18:32:27.663747",
     "status": "completed"
    },
    "pycharm": {
     "name": "#%% md\n"
    },
    "tags": []
   },
   "source": [
    "### Distribution Plot"
   ]
  },
  {
   "cell_type": "markdown",
   "id": "eb6d3bac",
   "metadata": {
    "papermill": {
     "duration": 0.066908,
     "end_time": "2022-05-28T18:32:27.864082",
     "exception": false,
     "start_time": "2022-05-28T18:32:27.797174",
     "status": "completed"
    },
    "pycharm": {
     "name": "#%% md\n"
    },
    "tags": []
   },
   "source": [
    "#### Defining data"
   ]
  },
  {
   "cell_type": "code",
   "execution_count": 8,
   "id": "36c257d6",
   "metadata": {
    "execution": {
     "iopub.execute_input": "2022-05-28T18:32:28.006648Z",
     "iopub.status.busy": "2022-05-28T18:32:28.005532Z",
     "iopub.status.idle": "2022-05-28T18:32:28.009090Z",
     "shell.execute_reply": "2022-05-28T18:32:28.010443Z",
     "shell.execute_reply.started": "2022-05-27T17:43:25.196378Z"
    },
    "papermill": {
     "duration": 0.078003,
     "end_time": "2022-05-28T18:32:28.010604",
     "exception": false,
     "start_time": "2022-05-28T18:32:27.932601",
     "status": "completed"
    },
    "pycharm": {
     "name": "#%%\n"
    },
    "tags": []
   },
   "outputs": [],
   "source": [
    "data = [len(negative_samples), len(neutral_samples), len(positive_samples)]\n",
    "labels = [\"Negative\",\"Neutral\",\"Positive\"]"
   ]
  },
  {
   "cell_type": "code",
   "execution_count": 9,
   "id": "30eb16dc",
   "metadata": {
    "execution": {
     "iopub.execute_input": "2022-05-28T18:32:28.150836Z",
     "iopub.status.busy": "2022-05-28T18:32:28.149782Z",
     "iopub.status.idle": "2022-05-28T18:32:28.153149Z",
     "shell.execute_reply": "2022-05-28T18:32:28.152582Z",
     "shell.execute_reply.started": "2022-05-27T17:43:25.206725Z"
    },
    "papermill": {
     "duration": 0.075805,
     "end_time": "2022-05-28T18:32:28.153331",
     "exception": false,
     "start_time": "2022-05-28T18:32:28.077526",
     "status": "completed"
    },
    "pycharm": {
     "name": "#%%\n"
    },
    "tags": []
   },
   "outputs": [],
   "source": [
    "colors = sns.color_palette(\"pastel\")"
   ]
  },
  {
   "cell_type": "markdown",
   "id": "d21c0370",
   "metadata": {
    "papermill": {
     "duration": 0.066746,
     "end_time": "2022-05-28T18:32:28.288727",
     "exception": false,
     "start_time": "2022-05-28T18:32:28.221981",
     "status": "completed"
    },
    "pycharm": {
     "name": "#%% md\n"
    },
    "tags": []
   },
   "source": [
    "\n",
    "#### Distribution Pie-chart"
   ]
  },
  {
   "cell_type": "code",
   "execution_count": 10,
   "id": "e64912df",
   "metadata": {
    "execution": {
     "iopub.execute_input": "2022-05-28T18:32:28.444412Z",
     "iopub.status.busy": "2022-05-28T18:32:28.443323Z",
     "iopub.status.idle": "2022-05-28T18:32:28.569015Z",
     "shell.execute_reply": "2022-05-28T18:32:28.569655Z",
     "shell.execute_reply.started": "2022-05-27T17:43:25.214394Z"
    },
    "papermill": {
     "duration": 0.208482,
     "end_time": "2022-05-28T18:32:28.569929",
     "exception": false,
     "start_time": "2022-05-28T18:32:28.361447",
     "status": "completed"
    },
    "pycharm": {
     "name": "#%%\n"
    },
    "tags": []
   },
   "outputs": [
    {
     "data": {
      "image/png": "[encoded data removed]",
      "text/plain": [
       "<Figure size 432x432 with 1 Axes>"
      ]
     },
     "metadata": {},
     "output_type": "display_data"
    }
   ],
   "source": [
    "plt.figure(figsize=(6,6))\n",
    "plt.title(\"Target distribution\")\n",
    "plt.pie(data, labels=labels, colors=colors, autopct=\"%.0f%%\")\n",
    "plt.show()"
   ]
  },
  {
   "cell_type": "markdown",
   "id": "ab22f38e",
   "metadata": {
    "papermill": {
     "duration": 0.068128,
     "end_time": "2022-05-28T18:32:28.708236",
     "exception": false,
     "start_time": "2022-05-28T18:32:28.640108",
     "status": "completed"
    },
    "pycharm": {
     "name": "#%% md\n"
    },
    "tags": []
   },
   "source": [
    "# Data cleaning"
   ]
  },
  {
   "cell_type": "markdown",
   "id": "7dc78447",
   "metadata": {
    "papermill": {
     "duration": 0.069031,
     "end_time": "2022-05-28T18:32:28.846408",
     "exception": false,
     "start_time": "2022-05-28T18:32:28.777377",
     "status": "completed"
    },
    "pycharm": {
     "name": "#%% md\n"
    },
    "tags": []
   },
   "source": [
    "## Drop unncessary columns\n",
    "These columns are not necessary to train our model : ID, date, query, username.\n",
    "\n",
    "> Notes :\n",
    "- axis = 1 means \"computing along the columns\"\n",
    "- using (inplace = true) will overwrite the existing dataframe"
   ]
  },
  {
   "cell_type": "code",
   "execution_count": 11,
   "id": "c09ff4cc",
   "metadata": {
    "execution": {
     "iopub.execute_input": "2022-05-28T18:32:29.031896Z",
     "iopub.status.busy": "2022-05-28T18:32:28.999309Z",
     "iopub.status.idle": "2022-05-28T18:32:29.035293Z",
     "shell.execute_reply": "2022-05-28T18:32:29.034688Z",
     "shell.execute_reply.started": "2022-05-27T17:43:25.362678Z"
    },
    "papermill": {
     "duration": 0.118456,
     "end_time": "2022-05-28T18:32:29.035447",
     "exception": false,
     "start_time": "2022-05-28T18:32:28.916991",
     "status": "completed"
    },
    "pycharm": {
     "name": "#%%\n"
    },
    "tags": []
   },
   "outputs": [],
   "source": [
    "dataset.drop([\"id\",\"date\",\"query\",\"username\"],axis=1, inplace=True)"
   ]
  },
  {
   "cell_type": "markdown",
   "id": "430361ae",
   "metadata": {
    "papermill": {
     "duration": 0.070268,
     "end_time": "2022-05-28T18:32:29.174792",
     "exception": false,
     "start_time": "2022-05-28T18:32:29.104524",
     "status": "completed"
    },
    "pycharm": {
     "name": "#%% md\n"
    },
    "tags": []
   },
   "source": [
    "### Result"
   ]
  },
  {
   "cell_type": "code",
   "execution_count": 12,
   "id": "1dafdd16",
   "metadata": {
    "execution": {
     "iopub.execute_input": "2022-05-28T18:32:29.325128Z",
     "iopub.status.busy": "2022-05-28T18:32:29.323947Z",
     "iopub.status.idle": "2022-05-28T18:32:29.329304Z",
     "shell.execute_reply": "2022-05-28T18:32:29.328757Z",
     "shell.execute_reply.started": "2022-05-27T17:43:25.443428Z"
    },
    "papermill": {
     "duration": 0.084007,
     "end_time": "2022-05-28T18:32:29.329453",
     "exception": false,
     "start_time": "2022-05-28T18:32:29.245446",
     "status": "completed"
    },
    "pycharm": {
     "name": "#%%\n"
    },
    "tags": []
   },
   "outputs": [
    {
     "data": {
      "text/html": [
       "<div>\n",
       "<style scoped>\n",
       "    .dataframe tbody tr th:only-of-type {\n",
       "        vertical-align: middle;\n",
       "    }\n",
       "\n",
       "    .dataframe tbody tr th {\n",
       "        vertical-align: top;\n",
       "    }\n",
       "\n",
       "    .dataframe thead th {\n",
       "        text-align: right;\n",
       "    }\n",
       "</style>\n",
       "<table border=\"1\" class=\"dataframe\">\n",
       "  <thead>\n",
       "    <tr style=\"text-align: right;\">\n",
       "      <th></th>\n",
       "      <th>target</th>\n",
       "      <th>tweet</th>\n",
       "    </tr>\n",
       "  </thead>\n",
       "  <tbody>\n",
       "    <tr>\n",
       "      <th>0</th>\n",
       "      <td>0</td>\n",
       "      <td>@switchfoot http://twitpic.com/2y1zl - Awww, t...</td>\n",
       "    </tr>\n",
       "    <tr>\n",
       "      <th>1</th>\n",
       "      <td>0</td>\n",
       "      <td>is upset that he can't update his Facebook by ...</td>\n",
       "    </tr>\n",
       "    <tr>\n",
       "      <th>2</th>\n",
       "      <td>0</td>\n",
       "      <td>@Kenichan I dived many times for the ball. Man...</td>\n",
       "    </tr>\n",
       "    <tr>\n",
       "      <th>3</th>\n",
       "      <td>0</td>\n",
       "      <td>my whole body feels itchy and like its on fire</td>\n",
       "    </tr>\n",
       "    <tr>\n",
       "      <th>4</th>\n",
       "      <td>0</td>\n",
       "      <td>@nationwideclass no, it's not behaving at all....</td>\n",
       "    </tr>\n",
       "  </tbody>\n",
       "</table>\n",
       "</div>"
      ],
      "text/plain": [
       "   target                                              tweet\n",
       "0       0  @switchfoot http://twitpic.com/2y1zl - Awww, t...\n",
       "1       0  is upset that he can't update his Facebook by ...\n",
       "2       0  @Kenichan I dived many times for the ball. Man...\n",
       "3       0    my whole body feels itchy and like its on fire \n",
       "4       0  @nationwideclass no, it's not behaving at all...."
      ]
     },
     "execution_count": 12,
     "metadata": {},
     "output_type": "execute_result"
    }
   ],
   "source": [
    "dataset.head(5)"
   ]
  },
  {
   "cell_type": "markdown",
   "id": "8f8298f4",
   "metadata": {
    "papermill": {
     "duration": 0.067246,
     "end_time": "2022-05-28T18:32:29.465754",
     "exception": false,
     "start_time": "2022-05-28T18:32:29.398508",
     "status": "completed"
    },
    "pycharm": {
     "name": "#%% md\n"
    },
    "tags": []
   },
   "source": [
    "## Replace the targets\n",
    "\n",
    "In the original dataset, 4 means \"true\". For convenience purposes, we'll set it to 1."
   ]
  },
  {
   "cell_type": "code",
   "execution_count": 13,
   "id": "0be7c8c3",
   "metadata": {
    "execution": {
     "iopub.execute_input": "2022-05-28T18:32:29.609080Z",
     "iopub.status.busy": "2022-05-28T18:32:29.607852Z",
     "iopub.status.idle": "2022-05-28T18:32:29.627404Z",
     "shell.execute_reply": "2022-05-28T18:32:29.627887Z",
     "shell.execute_reply.started": "2022-05-27T17:43:25.462896Z"
    },
    "papermill": {
     "duration": 0.095635,
     "end_time": "2022-05-28T18:32:29.628051",
     "exception": false,
     "start_time": "2022-05-28T18:32:29.532416",
     "status": "completed"
    },
    "pycharm": {
     "name": "#%%\n"
    },
    "tags": []
   },
   "outputs": [],
   "source": [
    "dataset.target = dataset.target.replace({4: 1})"
   ]
  },
  {
   "cell_type": "markdown",
   "id": "1e8a5097",
   "metadata": {
    "papermill": {
     "duration": 0.06828,
     "end_time": "2022-05-28T18:32:29.764516",
     "exception": false,
     "start_time": "2022-05-28T18:32:29.696236",
     "status": "completed"
    },
    "pycharm": {
     "name": "#%% md\n"
    },
    "tags": []
   },
   "source": [
    "### Result"
   ]
  },
  {
   "cell_type": "code",
   "execution_count": 14,
   "id": "41d91ab7",
   "metadata": {
    "execution": {
     "iopub.execute_input": "2022-05-28T18:32:29.910475Z",
     "iopub.status.busy": "2022-05-28T18:32:29.909410Z",
     "iopub.status.idle": "2022-05-28T18:32:29.954732Z",
     "shell.execute_reply": "2022-05-28T18:32:29.955302Z",
     "shell.execute_reply.started": "2022-05-27T17:43:25.495189Z"
    },
    "papermill": {
     "duration": 0.121709,
     "end_time": "2022-05-28T18:32:29.955482",
     "exception": false,
     "start_time": "2022-05-28T18:32:29.833773",
     "status": "completed"
    },
    "pycharm": {
     "name": "#%%\n"
    },
    "tags": []
   },
   "outputs": [
    {
     "data": {
      "text/html": [
       "<div>\n",
       "<style scoped>\n",
       "    .dataframe tbody tr th:only-of-type {\n",
       "        vertical-align: middle;\n",
       "    }\n",
       "\n",
       "    .dataframe tbody tr th {\n",
       "        vertical-align: top;\n",
       "    }\n",
       "\n",
       "    .dataframe thead th {\n",
       "        text-align: right;\n",
       "    }\n",
       "</style>\n",
       "<table border=\"1\" class=\"dataframe\">\n",
       "  <thead>\n",
       "    <tr style=\"text-align: right;\">\n",
       "      <th></th>\n",
       "      <th>target</th>\n",
       "      <th>tweet</th>\n",
       "    </tr>\n",
       "  </thead>\n",
       "  <tbody>\n",
       "    <tr>\n",
       "      <th>800000</th>\n",
       "      <td>1</td>\n",
       "      <td>I LOVE @Health4UandPets u guys r the best!!</td>\n",
       "    </tr>\n",
       "    <tr>\n",
       "      <th>800001</th>\n",
       "      <td>1</td>\n",
       "      <td>im meeting up with one of my besties tonight! ...</td>\n",
       "    </tr>\n",
       "    <tr>\n",
       "      <th>800002</th>\n",
       "      <td>1</td>\n",
       "      <td>@DaRealSunisaKim Thanks for the Twitter add, S...</td>\n",
       "    </tr>\n",
       "    <tr>\n",
       "      <th>800003</th>\n",
       "      <td>1</td>\n",
       "      <td>Being sick can be really cheap when it hurts t...</td>\n",
       "    </tr>\n",
       "    <tr>\n",
       "      <th>800004</th>\n",
       "      <td>1</td>\n",
       "      <td>@LovesBrooklyn2 he has that effect on everyone</td>\n",
       "    </tr>\n",
       "  </tbody>\n",
       "</table>\n",
       "</div>"
      ],
      "text/plain": [
       "        target                                              tweet\n",
       "800000       1       I LOVE @Health4UandPets u guys r the best!! \n",
       "800001       1  im meeting up with one of my besties tonight! ...\n",
       "800002       1  @DaRealSunisaKim Thanks for the Twitter add, S...\n",
       "800003       1  Being sick can be really cheap when it hurts t...\n",
       "800004       1    @LovesBrooklyn2 he has that effect on everyone "
      ]
     },
     "execution_count": 14,
     "metadata": {},
     "output_type": "execute_result"
    }
   ],
   "source": [
    "dataset[dataset[\"target\"]==1].head()"
   ]
  },
  {
   "cell_type": "markdown",
   "id": "632ca78e",
   "metadata": {
    "papermill": {
     "duration": 0.070825,
     "end_time": "2022-05-28T18:32:30.094787",
     "exception": false,
     "start_time": "2022-05-28T18:32:30.023962",
     "status": "completed"
    },
    "pycharm": {
     "name": "#%% md\n"
    },
    "tags": []
   },
   "source": [
    "## Removing mentions, links, extra spaces from tweets"
   ]
  },
  {
   "cell_type": "code",
   "execution_count": 15,
   "id": "4e6f38c3",
   "metadata": {
    "execution": {
     "iopub.execute_input": "2022-05-28T18:32:30.244301Z",
     "iopub.status.busy": "2022-05-28T18:32:30.243067Z",
     "iopub.status.idle": "2022-05-28T18:32:30.246552Z",
     "shell.execute_reply": "2022-05-28T18:32:30.245932Z",
     "shell.execute_reply.started": "2022-05-27T17:43:25.587527Z"
    },
    "papermill": {
     "duration": 0.080355,
     "end_time": "2022-05-28T18:32:30.246693",
     "exception": false,
     "start_time": "2022-05-28T18:32:30.166338",
     "status": "completed"
    },
    "pycharm": {
     "name": "#%%\n"
    },
    "tags": []
   },
   "outputs": [],
   "source": [
    "# Remove mentions\n",
    "regex_mentions = r\"@[A-Za-z0-9_]+\"\n",
    "# Remove links\n",
    "regex_links = r\"https?://[A-Za-z0-9./]+\"\n",
    "# Remove some special characters\n",
    "regex_special = r\"[^A-Za-z0-9]+\""
   ]
  },
  {
   "cell_type": "markdown",
   "id": "923157cb",
   "metadata": {
    "papermill": {
     "duration": 0.067546,
     "end_time": "2022-05-28T18:32:30.381033",
     "exception": false,
     "start_time": "2022-05-28T18:32:30.313487",
     "status": "completed"
    },
    "pycharm": {
     "name": "#%% md\n"
    },
    "tags": []
   },
   "source": [
    "### Apply preprocessing"
   ]
  },
  {
   "cell_type": "code",
   "execution_count": 16,
   "id": "fdc4ed1a",
   "metadata": {
    "execution": {
     "iopub.execute_input": "2022-05-28T18:32:30.573333Z",
     "iopub.status.busy": "2022-05-28T18:32:30.572060Z",
     "iopub.status.idle": "2022-05-28T18:32:51.495189Z",
     "shell.execute_reply": "2022-05-28T18:32:51.495920Z",
     "shell.execute_reply.started": "2022-05-27T17:43:25.596627Z"
    },
    "papermill": {
     "duration": 21.047886,
     "end_time": "2022-05-28T18:32:51.496121",
     "exception": false,
     "start_time": "2022-05-28T18:32:30.448235",
     "status": "completed"
    },
    "pycharm": {
     "name": "#%%\n"
    },
    "tags": []
   },
   "outputs": [],
   "source": [
    "# Remove mentions\n",
    "dataset.tweet = dataset.tweet.apply(lambda x: re.sub(regex_mentions, \" \", str(x).strip()))\n",
    "# Remove links\n",
    "dataset.tweet = dataset.tweet.apply(lambda x: re.sub(regex_links, \" \", str(x).strip()))\n",
    "# Remove special characters\n",
    "dataset.tweet = dataset.tweet.apply(lambda x: re.sub(regex_special, \" \", str(x).strip()))"
   ]
  },
  {
   "cell_type": "markdown",
   "id": "75881f43",
   "metadata": {
    "papermill": {
     "duration": 0.069139,
     "end_time": "2022-05-28T18:32:51.632033",
     "exception": false,
     "start_time": "2022-05-28T18:32:51.562894",
     "status": "completed"
    },
    "pycharm": {
     "name": "#%% md\n"
    },
    "tags": []
   },
   "source": [
    "### Show Results"
   ]
  },
  {
   "cell_type": "code",
   "execution_count": 17,
   "id": "f89dd630",
   "metadata": {
    "execution": {
     "iopub.execute_input": "2022-05-28T18:32:51.780240Z",
     "iopub.status.busy": "2022-05-28T18:32:51.779347Z",
     "iopub.status.idle": "2022-05-28T18:32:51.783028Z",
     "shell.execute_reply": "2022-05-28T18:32:51.783555Z",
     "shell.execute_reply.started": "2022-05-27T17:43:44.321919Z"
    },
    "papermill": {
     "duration": 0.083813,
     "end_time": "2022-05-28T18:32:51.783716",
     "exception": false,
     "start_time": "2022-05-28T18:32:51.699903",
     "status": "completed"
    },
    "pycharm": {
     "name": "#%%\n"
    },
    "tags": []
   },
   "outputs": [
    {
     "data": {
      "text/html": [
       "<div>\n",
       "<style scoped>\n",
       "    .dataframe tbody tr th:only-of-type {\n",
       "        vertical-align: middle;\n",
       "    }\n",
       "\n",
       "    .dataframe tbody tr th {\n",
       "        vertical-align: top;\n",
       "    }\n",
       "\n",
       "    .dataframe thead th {\n",
       "        text-align: right;\n",
       "    }\n",
       "</style>\n",
       "<table border=\"1\" class=\"dataframe\">\n",
       "  <thead>\n",
       "    <tr style=\"text-align: right;\">\n",
       "      <th></th>\n",
       "      <th>target</th>\n",
       "      <th>tweet</th>\n",
       "    </tr>\n",
       "  </thead>\n",
       "  <tbody>\n",
       "    <tr>\n",
       "      <th>0</th>\n",
       "      <td>0</td>\n",
       "      <td>Awww that s a bummer You shoulda got David Ca...</td>\n",
       "    </tr>\n",
       "    <tr>\n",
       "      <th>1</th>\n",
       "      <td>0</td>\n",
       "      <td>is upset that he can t update his Facebook by ...</td>\n",
       "    </tr>\n",
       "    <tr>\n",
       "      <th>2</th>\n",
       "      <td>0</td>\n",
       "      <td>I dived many times for the ball Managed to sav...</td>\n",
       "    </tr>\n",
       "    <tr>\n",
       "      <th>3</th>\n",
       "      <td>0</td>\n",
       "      <td>my whole body feels itchy and like its on fire</td>\n",
       "    </tr>\n",
       "    <tr>\n",
       "      <th>4</th>\n",
       "      <td>0</td>\n",
       "      <td>no it s not behaving at all i m mad why am i h...</td>\n",
       "    </tr>\n",
       "    <tr>\n",
       "      <th>5</th>\n",
       "      <td>0</td>\n",
       "      <td>not the whole crew</td>\n",
       "    </tr>\n",
       "    <tr>\n",
       "      <th>6</th>\n",
       "      <td>0</td>\n",
       "      <td>Need a hug</td>\n",
       "    </tr>\n",
       "    <tr>\n",
       "      <th>7</th>\n",
       "      <td>0</td>\n",
       "      <td>hey long time no see Yes Rains a bit only a bi...</td>\n",
       "    </tr>\n",
       "    <tr>\n",
       "      <th>8</th>\n",
       "      <td>0</td>\n",
       "      <td>nope they didn t have it</td>\n",
       "    </tr>\n",
       "    <tr>\n",
       "      <th>9</th>\n",
       "      <td>0</td>\n",
       "      <td>que me muera</td>\n",
       "    </tr>\n",
       "  </tbody>\n",
       "</table>\n",
       "</div>"
      ],
      "text/plain": [
       "   target                                              tweet\n",
       "0       0   Awww that s a bummer You shoulda got David Ca...\n",
       "1       0  is upset that he can t update his Facebook by ...\n",
       "2       0  I dived many times for the ball Managed to sav...\n",
       "3       0     my whole body feels itchy and like its on fire\n",
       "4       0  no it s not behaving at all i m mad why am i h...\n",
       "5       0                                 not the whole crew\n",
       "6       0                                         Need a hug\n",
       "7       0  hey long time no see Yes Rains a bit only a bi...\n",
       "8       0                           nope they didn t have it\n",
       "9       0                                      que me muera "
      ]
     },
     "execution_count": 17,
     "metadata": {},
     "output_type": "execute_result"
    }
   ],
   "source": [
    "dataset.head(10)"
   ]
  },
  {
   "cell_type": "markdown",
   "id": "48bd56ab",
   "metadata": {
    "papermill": {
     "duration": 0.070818,
     "end_time": "2022-05-28T18:32:51.923297",
     "exception": false,
     "start_time": "2022-05-28T18:32:51.852479",
     "status": "completed"
    },
    "pycharm": {
     "name": "#%% md\n"
    },
    "tags": []
   },
   "source": [
    "## Check for null content after cleaning\n",
    "In some rare cases, tweets may contain only special characters and end up \"empty\" after cleaning"
   ]
  },
  {
   "cell_type": "code",
   "execution_count": 18,
   "id": "3b2cffc9",
   "metadata": {
    "execution": {
     "iopub.execute_input": "2022-05-28T18:32:52.064622Z",
     "iopub.status.busy": "2022-05-28T18:32:52.063693Z",
     "iopub.status.idle": "2022-05-28T18:32:52.235209Z",
     "shell.execute_reply": "2022-05-28T18:32:52.235848Z",
     "shell.execute_reply.started": "2022-05-27T17:43:44.332486Z"
    },
    "papermill": {
     "duration": 0.24419,
     "end_time": "2022-05-28T18:32:52.236066",
     "exception": false,
     "start_time": "2022-05-28T18:32:51.991876",
     "status": "completed"
    },
    "pycharm": {
     "name": "#%%\n"
    },
    "tags": []
   },
   "outputs": [
    {
     "name": "stdout",
     "output_type": "stream",
     "text": [
      "Null values: \n",
      "\n",
      "target    0\n",
      "tweet     0\n",
      "dtype: int64\n"
     ]
    }
   ],
   "source": [
    "print(f\"Null values: \\n\\n{dataset.isna().sum()}\")"
   ]
  },
  {
   "cell_type": "code",
   "execution_count": 19,
   "id": "4af55337",
   "metadata": {
    "execution": {
     "iopub.execute_input": "2022-05-28T18:32:52.535374Z",
     "iopub.status.busy": "2022-05-28T18:32:52.534068Z",
     "iopub.status.idle": "2022-05-28T18:32:53.457997Z",
     "shell.execute_reply": "2022-05-28T18:32:53.458604Z",
     "shell.execute_reply.started": "2022-05-27T17:43:44.508755Z"
    },
    "papermill": {
     "duration": 1.15371,
     "end_time": "2022-05-28T18:32:53.458782",
     "exception": false,
     "start_time": "2022-05-28T18:32:52.305072",
     "status": "completed"
    },
    "pycharm": {
     "name": "#%%\n"
    },
    "tags": []
   },
   "outputs": [],
   "source": [
    "dataset['tweet'] = dataset['tweet'].str.lower()"
   ]
  },
  {
   "cell_type": "code",
   "execution_count": 20,
   "id": "15ab6b1e",
   "metadata": {
    "execution": {
     "iopub.execute_input": "2022-05-28T18:32:53.611098Z",
     "iopub.status.busy": "2022-05-28T18:32:53.608692Z",
     "iopub.status.idle": "2022-05-28T18:32:53.611914Z",
     "shell.execute_reply": "2022-05-28T18:32:53.612614Z",
     "shell.execute_reply.started": "2022-05-27T17:43:45.464818Z"
    },
    "papermill": {
     "duration": 0.085245,
     "end_time": "2022-05-28T18:32:53.612914",
     "exception": false,
     "start_time": "2022-05-28T18:32:53.527669",
     "status": "completed"
    },
    "pycharm": {
     "name": "#%%\n"
    },
    "tags": []
   },
   "outputs": [],
   "source": [
    "stopwords = [ \"a\", \"about\", \"above\", \"after\", \"again\", \"against\", \"all\", \"am\", \"an\", \"and\", \"any\", \"are\", \"as\", \"at\", \"be\", \"because\",\n",
    "             \"been\", \"before\", \"being\", \"below\", \"between\", \"both\", \"but\", \"by\", \"could\", \"did\", \"do\", \"does\", \"doing\", \"down\", \"during\",\n",
    "             \"each\", \"few\", \"for\", \"from\", \"further\", \"had\", \"has\", \"have\", \"having\", \"he\", \"he'd\", \"he'll\", \"he's\", \"her\", \"here\",\n",
    "             \"here's\", \"hers\", \"herself\", \"him\", \"himself\", \"his\", \"how\", \"how's\", \"i\", \"i'd\", \"i'll\", \"i'm\", \"i've\", \"if\", \"in\", \"into\",\n",
    "             \"is\", \"it\", \"it's\", \"its\", \"itself\", \"let's\", \"me\", \"more\", \"most\", \"my\", \"myself\", \"nor\", \"of\", \"on\", \"once\", \"only\", \"or\",\n",
    "             \"other\", \"ought\", \"our\", \"ours\", \"ourselves\", \"out\", \"over\", \"own\", \"same\", \"she\", \"she'd\", \"she'll\", \"she's\", \"should\",\n",
    "             \"so\", \"some\", \"such\", \"than\", \"that\", \"that's\", \"the\", \"their\", \"theirs\", \"them\", \"themselves\", \"then\", \"there\", \"there's\",\n",
    "             \"these\", \"they\", \"they'd\", \"they'll\", \"they're\", \"they've\", \"this\", \"those\", \"through\", \"to\", \"too\", \"under\", \"until\", \"up\",\n",
    "             \"very\", \"was\", \"we\", \"we'd\", \"we'll\", \"we're\", \"we've\", \"were\", \"what\", \"what's\", \"when\", \"when's\", \"where\", \"where's\",\n",
    "             \"which\", \"while\", \"who\", \"who's\", \"whom\", \"why\", \"why's\", \"with\", \"would\", \"you\", \"you'd\", \"you'll\", \"you're\", \"you've\",\n",
    "             \"your\", \"yours\", \"yourself\", \"yourselves\" ]"
   ]
  },
  {
   "cell_type": "code",
   "execution_count": 21,
   "id": "39d2ef80",
   "metadata": {
    "execution": {
     "iopub.execute_input": "2022-05-28T18:32:53.766519Z",
     "iopub.status.busy": "2022-05-28T18:32:53.765413Z",
     "iopub.status.idle": "2022-05-28T18:33:29.181555Z",
     "shell.execute_reply": "2022-05-28T18:33:29.180518Z",
     "shell.execute_reply.started": "2022-05-27T17:43:45.478263Z"
    },
    "papermill": {
     "duration": 35.49473,
     "end_time": "2022-05-28T18:33:29.181732",
     "exception": false,
     "start_time": "2022-05-28T18:32:53.687002",
     "status": "completed"
    },
    "pycharm": {
     "name": "#%%\n"
    },
    "tags": []
   },
   "outputs": [],
   "source": [
    "dataset['tweet'] = dataset['tweet'].apply(lambda x : ' '.join([word for word in x.split() if word not in stopwords]))"
   ]
  },
  {
   "cell_type": "code",
   "execution_count": 22,
   "id": "2c3a1f38",
   "metadata": {
    "execution": {
     "iopub.execute_input": "2022-05-28T18:33:29.332632Z",
     "iopub.status.busy": "2022-05-28T18:33:29.331612Z",
     "iopub.status.idle": "2022-05-28T18:33:29.335496Z",
     "shell.execute_reply": "2022-05-28T18:33:29.336006Z",
     "shell.execute_reply.started": "2022-05-27T17:44:18.816804Z"
    },
    "papermill": {
     "duration": 0.083021,
     "end_time": "2022-05-28T18:33:29.336206",
     "exception": false,
     "start_time": "2022-05-28T18:33:29.253185",
     "status": "completed"
    },
    "pycharm": {
     "name": "#%%\n"
    },
    "tags": []
   },
   "outputs": [
    {
     "data": {
      "text/html": [
       "<div>\n",
       "<style scoped>\n",
       "    .dataframe tbody tr th:only-of-type {\n",
       "        vertical-align: middle;\n",
       "    }\n",
       "\n",
       "    .dataframe tbody tr th {\n",
       "        vertical-align: top;\n",
       "    }\n",
       "\n",
       "    .dataframe thead th {\n",
       "        text-align: right;\n",
       "    }\n",
       "</style>\n",
       "<table border=\"1\" class=\"dataframe\">\n",
       "  <thead>\n",
       "    <tr style=\"text-align: right;\">\n",
       "      <th></th>\n",
       "      <th>target</th>\n",
       "      <th>tweet</th>\n",
       "    </tr>\n",
       "  </thead>\n",
       "  <tbody>\n",
       "    <tr>\n",
       "      <th>0</th>\n",
       "      <td>0</td>\n",
       "      <td>awww s bummer shoulda got david carr third day d</td>\n",
       "    </tr>\n",
       "    <tr>\n",
       "      <th>1</th>\n",
       "      <td>0</td>\n",
       "      <td>upset can t update facebook texting might cry ...</td>\n",
       "    </tr>\n",
       "    <tr>\n",
       "      <th>2</th>\n",
       "      <td>0</td>\n",
       "      <td>dived many times ball managed save 50 rest go ...</td>\n",
       "    </tr>\n",
       "    <tr>\n",
       "      <th>3</th>\n",
       "      <td>0</td>\n",
       "      <td>whole body feels itchy like fire</td>\n",
       "    </tr>\n",
       "    <tr>\n",
       "      <th>4</th>\n",
       "      <td>0</td>\n",
       "      <td>no s not behaving m mad can t see</td>\n",
       "    </tr>\n",
       "  </tbody>\n",
       "</table>\n",
       "</div>"
      ],
      "text/plain": [
       "   target                                              tweet\n",
       "0       0   awww s bummer shoulda got david carr third day d\n",
       "1       0  upset can t update facebook texting might cry ...\n",
       "2       0  dived many times ball managed save 50 rest go ...\n",
       "3       0                   whole body feels itchy like fire\n",
       "4       0                  no s not behaving m mad can t see"
      ]
     },
     "execution_count": 22,
     "metadata": {},
     "output_type": "execute_result"
    }
   ],
   "source": [
    "dataset.head(5)"
   ]
  },
  {
   "cell_type": "markdown",
   "id": "e7b9566e",
   "metadata": {
    "papermill": {
     "duration": 0.071812,
     "end_time": "2022-05-28T18:33:29.479517",
     "exception": false,
     "start_time": "2022-05-28T18:33:29.407705",
     "status": "completed"
    },
    "pycharm": {
     "name": "#%% md\n"
    },
    "tags": []
   },
   "source": [
    "# Data preparation"
   ]
  },
  {
   "cell_type": "markdown",
   "id": "e7c37451",
   "metadata": {
    "papermill": {
     "duration": 0.148911,
     "end_time": "2022-05-28T18:33:29.756540",
     "exception": false,
     "start_time": "2022-05-28T18:33:29.607629",
     "status": "completed"
    },
    "pycharm": {
     "name": "#%% md\n"
    },
    "tags": []
   },
   "source": [
    "## Train/test split\n",
    "\n",
    "Since the dataset is large enough, we will proceed to a 90-10 (90% for training and 10% for validation/test) split.\n",
    "\n",
    "> Note : Fixing the random state parameter makes our splitting operation reproductible by initializing the internal random number generator which will decide the splitting of data into train and test indices in our case."
   ]
  },
  {
   "cell_type": "code",
   "execution_count": 23,
   "id": "31eb8d90",
   "metadata": {
    "execution": {
     "iopub.execute_input": "2022-05-28T18:33:30.007261Z",
     "iopub.status.busy": "2022-05-28T18:33:30.001540Z",
     "iopub.status.idle": "2022-05-28T18:33:30.459917Z",
     "shell.execute_reply": "2022-05-28T18:33:30.459319Z",
     "shell.execute_reply.started": "2022-05-27T17:44:18.827701Z"
    },
    "papermill": {
     "duration": 0.580702,
     "end_time": "2022-05-28T18:33:30.460063",
     "exception": false,
     "start_time": "2022-05-28T18:33:29.879361",
     "status": "completed"
    },
    "pycharm": {
     "name": "#%%\n"
    },
    "tags": []
   },
   "outputs": [],
   "source": [
    "train, test = train_test_split(dataset, test_size=0.1, random_state=44)"
   ]
  },
  {
   "cell_type": "markdown",
   "id": "32d2a4ba",
   "metadata": {
    "papermill": {
     "duration": 0.112714,
     "end_time": "2022-05-28T18:33:30.659387",
     "exception": false,
     "start_time": "2022-05-28T18:33:30.546673",
     "status": "completed"
    },
    "pycharm": {
     "name": "#%% md\n"
    },
    "tags": []
   },
   "source": [
    "### Results"
   ]
  },
  {
   "cell_type": "code",
   "execution_count": 24,
   "id": "d60f6fc8",
   "metadata": {
    "execution": {
     "iopub.execute_input": "2022-05-28T18:33:30.804915Z",
     "iopub.status.busy": "2022-05-28T18:33:30.804304Z",
     "iopub.status.idle": "2022-05-28T18:33:30.808980Z",
     "shell.execute_reply": "2022-05-28T18:33:30.808465Z",
     "shell.execute_reply.started": "2022-05-27T17:44:19.215272Z"
    },
    "papermill": {
     "duration": 0.080746,
     "end_time": "2022-05-28T18:33:30.809156",
     "exception": false,
     "start_time": "2022-05-28T18:33:30.728410",
     "status": "completed"
    },
    "pycharm": {
     "name": "#%%\n"
    },
    "tags": []
   },
   "outputs": [
    {
     "name": "stdout",
     "output_type": "stream",
     "text": [
      "Training set length: 1.44M examples\n",
      "Test set length: 0.16M examples\n"
     ]
    }
   ],
   "source": [
    "print(f\"Training set length: {len(train)/1e6}M examples\")\n",
    "print(f\"Test set length: {len(test)/1e6}M examples\")"
   ]
  },
  {
   "cell_type": "markdown",
   "id": "7b1b0f08",
   "metadata": {
    "papermill": {
     "duration": 0.069223,
     "end_time": "2022-05-28T18:33:30.947025",
     "exception": false,
     "start_time": "2022-05-28T18:33:30.877802",
     "status": "completed"
    },
    "pycharm": {
     "name": "#%% md\n"
    },
    "tags": []
   },
   "source": [
    "## Tokenization\n",
    "\n",
    "Tokenization is the process of breaking apart original text into individual pieces (tokens) for further analysis. This process is important because the meaning of the text can be interpreted through analysis of the words present in the text."
   ]
  },
  {
   "cell_type": "markdown",
   "id": "1eb43aa3",
   "metadata": {
    "papermill": {
     "duration": 0.070786,
     "end_time": "2022-05-28T18:33:31.086590",
     "exception": false,
     "start_time": "2022-05-28T18:33:31.015804",
     "status": "completed"
    },
    "pycharm": {
     "name": "#%% md\n"
    },
    "tags": []
   },
   "source": [
    "### Define the tokenizer\n",
    "\n",
    "This class allows to vectorize a text corpus, by turning each text into either a sequence of integers (each integer being the index of a token in a dictionary) or into a vector where the coefficient for each token could be binary, based on word count, based on tf-idf"
   ]
  },
  {
   "cell_type": "code",
   "execution_count": 25,
   "id": "5dd65633",
   "metadata": {
    "execution": {
     "iopub.execute_input": "2022-05-28T18:33:31.230333Z",
     "iopub.status.busy": "2022-05-28T18:33:31.229370Z",
     "iopub.status.idle": "2022-05-28T18:33:56.564544Z",
     "shell.execute_reply": "2022-05-28T18:33:56.563712Z",
     "shell.execute_reply.started": "2022-05-27T17:44:19.223761Z"
    },
    "papermill": {
     "duration": 25.41002,
     "end_time": "2022-05-28T18:33:56.564794",
     "exception": false,
     "start_time": "2022-05-28T18:33:31.154774",
     "status": "completed"
    },
    "pycharm": {
     "name": "#%%\n"
    },
    "tags": []
   },
   "outputs": [],
   "source": [
    "# Initialize the tokenizer\n",
    "tokenizer = tf.keras.preprocessing.text.Tokenizer()\n",
    "# Updates the internal vocabulary based on our tweet contents\n",
    "tokenizer.fit_on_texts(train.tweet)\n",
    "# Setup the vocabular size based on the tokenizer results\n",
    "vocab_size = len(tokenizer.word_index)+1"
   ]
  },
  {
   "cell_type": "markdown",
   "id": "8365cdfa",
   "metadata": {
    "papermill": {
     "duration": 0.071417,
     "end_time": "2022-05-28T18:33:56.705940",
     "exception": false,
     "start_time": "2022-05-28T18:33:56.634523",
     "status": "completed"
    },
    "pycharm": {
     "name": "#%% md\n"
    },
    "tags": []
   },
   "source": [
    "### Results"
   ]
  },
  {
   "cell_type": "code",
   "execution_count": 26,
   "id": "847ad41f",
   "metadata": {
    "execution": {
     "iopub.execute_input": "2022-05-28T18:33:56.867531Z",
     "iopub.status.busy": "2022-05-28T18:33:56.866672Z",
     "iopub.status.idle": "2022-05-28T18:33:56.870481Z",
     "shell.execute_reply": "2022-05-28T18:33:56.871157Z",
     "shell.execute_reply.started": "2022-05-27T17:44:41.556263Z"
    },
    "papermill": {
     "duration": 0.094062,
     "end_time": "2022-05-28T18:33:56.871382",
     "exception": false,
     "start_time": "2022-05-28T18:33:56.777320",
     "status": "completed"
    },
    "pycharm": {
     "name": "#%%\n"
    },
    "tags": []
   },
   "outputs": [
    {
     "name": "stdout",
     "output_type": "stream",
     "text": [
      "Word index length: 268078\n",
      "Some words: ['s', 't', 'm', 'just', 'not', 'now', 'can', 'good', 'day', 'get']\n"
     ]
    }
   ],
   "source": [
    "print(f\"Word index length: {len(tokenizer.word_index)}\")\n",
    "print(f\"Some words: {list(tokenizer.word_index.keys())[0:10]}\")"
   ]
  },
  {
   "cell_type": "markdown",
   "id": "e221dd47",
   "metadata": {
    "papermill": {
     "duration": 0.07272,
     "end_time": "2022-05-28T18:33:57.016427",
     "exception": false,
     "start_time": "2022-05-28T18:33:56.943707",
     "status": "completed"
    },
    "pycharm": {
     "name": "#%% md\n"
    },
    "tags": []
   },
   "source": [
    "### Get the max token length"
   ]
  },
  {
   "cell_type": "code",
   "execution_count": 27,
   "id": "ccf1f13f",
   "metadata": {
    "execution": {
     "iopub.execute_input": "2022-05-28T18:33:57.196608Z",
     "iopub.status.busy": "2022-05-28T18:33:57.186726Z",
     "iopub.status.idle": "2022-05-28T18:33:58.645980Z",
     "shell.execute_reply": "2022-05-28T18:33:58.646853Z",
     "shell.execute_reply.started": "2022-05-27T17:44:41.576368Z"
    },
    "papermill": {
     "duration": 1.558312,
     "end_time": "2022-05-28T18:33:58.647122",
     "exception": false,
     "start_time": "2022-05-28T18:33:57.088810",
     "status": "completed"
    },
    "pycharm": {
     "name": "#%%\n"
    },
    "tags": []
   },
   "outputs": [
    {
     "name": "stdout",
     "output_type": "stream",
     "text": [
      "Maximum token length: 51\n"
     ]
    }
   ],
   "source": [
    "# Intialize the mex length to the first tweet length\n",
    "max_length = len(dataset[\"tweet\"][0].split())\n",
    "\n",
    "# Loop through the tweets\n",
    "for tweet in dataset[\"tweet\"]:\n",
    "    # Get each tweet's length\n",
    "    length = len(tweet.split())\n",
    "    # Update the max length if greater\n",
    "    if length > max_length:\n",
    "        max_length = length\n",
    "\n",
    "print(f\"Maximum token length: {max_length}\")"
   ]
  },
  {
   "cell_type": "markdown",
   "id": "57f9644d",
   "metadata": {
    "papermill": {
     "duration": 0.07135,
     "end_time": "2022-05-28T18:33:58.791489",
     "exception": false,
     "start_time": "2022-05-28T18:33:58.720139",
     "status": "completed"
    },
    "pycharm": {
     "name": "#%% md\n"
    },
    "tags": []
   },
   "source": [
    "## Define sequences\n",
    "\n",
    "The Tensorlow \"texts_to_sequences\" method transforms each text in texts to a sequence of integers."
   ]
  },
  {
   "cell_type": "code",
   "execution_count": 28,
   "id": "59b4c89f",
   "metadata": {
    "execution": {
     "iopub.execute_input": "2022-05-28T18:33:58.967381Z",
     "iopub.status.busy": "2022-05-28T18:33:58.946709Z",
     "iopub.status.idle": "2022-05-28T18:34:23.940824Z",
     "shell.execute_reply": "2022-05-28T18:34:23.939971Z",
     "shell.execute_reply.started": "2022-05-27T17:44:43.066179Z"
    },
    "papermill": {
     "duration": 25.07607,
     "end_time": "2022-05-28T18:34:23.940978",
     "exception": false,
     "start_time": "2022-05-28T18:33:58.864908",
     "status": "completed"
    },
    "pycharm": {
     "name": "#%%\n"
    },
    "tags": []
   },
   "outputs": [],
   "source": [
    "# Training set\n",
    "sequences_train = tokenizer.texts_to_sequences(train.tweet)\n",
    "# Test set\n",
    "sequences_test = tokenizer.texts_to_sequences(test.tweet)"
   ]
  },
  {
   "cell_type": "markdown",
   "id": "6be116a9",
   "metadata": {
    "papermill": {
     "duration": 0.072084,
     "end_time": "2022-05-28T18:34:24.084925",
     "exception": false,
     "start_time": "2022-05-28T18:34:24.012841",
     "status": "completed"
    },
    "pycharm": {
     "name": "#%% md\n"
    },
    "tags": []
   },
   "source": [
    "## Define the training and test sets"
   ]
  },
  {
   "cell_type": "code",
   "execution_count": 29,
   "id": "29b66c0e",
   "metadata": {
    "execution": {
     "iopub.execute_input": "2022-05-28T18:34:24.245948Z",
     "iopub.status.busy": "2022-05-28T18:34:24.235517Z",
     "iopub.status.idle": "2022-05-28T18:34:35.881441Z",
     "shell.execute_reply": "2022-05-28T18:34:35.882708Z",
     "shell.execute_reply.started": "2022-05-27T17:45:04.296529Z"
    },
    "papermill": {
     "duration": 11.726804,
     "end_time": "2022-05-28T18:34:35.882959",
     "exception": false,
     "start_time": "2022-05-28T18:34:24.156155",
     "status": "completed"
    },
    "pycharm": {
     "name": "#%%\n"
    },
    "tags": []
   },
   "outputs": [
    {
     "name": "stdout",
     "output_type": "stream",
     "text": [
      "Training test shape : (1440000, 51)\n"
     ]
    }
   ],
   "source": [
    "# Pad the training sequences to the same length after the sequence\n",
    "X_train = tf.keras.preprocessing.sequence.pad_sequences(sequences_train, maxlen=max_length, padding=\"post\")\n",
    "# Pad the test sequences to the same length after the sequence\n",
    "X_test = tf.keras.preprocessing.sequence.pad_sequences(sequences_test, maxlen=max_length, padding=\"post\")\n",
    "\n",
    "# Setup the training target\n",
    "y_train = train.target.values\n",
    "# Setup the test target values\n",
    "y_test = test.target.values\n",
    "\n",
    "print(f\"Training test shape : {X_train.shape}\")"
   ]
  },
  {
   "cell_type": "markdown",
   "id": "1d1c2ec2",
   "metadata": {
    "papermill": {
     "duration": 0.125317,
     "end_time": "2022-05-28T18:34:36.135566",
     "exception": false,
     "start_time": "2022-05-28T18:34:36.010249",
     "status": "completed"
    },
    "pycharm": {
     "name": "#%% md\n"
    },
    "tags": []
   },
   "source": [
    "## Embedding with Word Embeddings (GloVe)\n",
    "\n",
    "- Embedding is an approach that allows us to give a numeric representation of words. The Word Embeddings method setup words with similar meaning to have a similar representation.\n",
    "- To sum up briefly, the GloVe dataset is a model for distributed word representation pre-trained on a very large corpus. Our GloVe dataset contains 100-dimensional pretrained words, with each row containing the actual word followed by its 100-dimensional representation."
   ]
  },
  {
   "cell_type": "markdown",
   "id": "a49f4bce",
   "metadata": {
    "papermill": {
     "duration": 0.0698,
     "end_time": "2022-05-28T18:34:36.285905",
     "exception": false,
     "start_time": "2022-05-28T18:34:36.216105",
     "status": "completed"
    },
    "pycharm": {
     "name": "#%% md\n"
    },
    "tags": []
   },
   "source": [
    "### Setup embeddings"
   ]
  },
  {
   "cell_type": "code",
   "execution_count": 30,
   "id": "ca8d851e",
   "metadata": {
    "execution": {
     "iopub.execute_input": "2022-05-28T18:34:36.430667Z",
     "iopub.status.busy": "2022-05-28T18:34:36.430012Z",
     "iopub.status.idle": "2022-05-28T18:34:36.438323Z",
     "shell.execute_reply": "2022-05-28T18:34:36.437662Z",
     "shell.execute_reply.started": "2022-05-27T17:45:10.941045Z"
    },
    "papermill": {
     "duration": 0.08347,
     "end_time": "2022-05-28T18:34:36.438477",
     "exception": false,
     "start_time": "2022-05-28T18:34:36.355007",
     "status": "completed"
    },
    "pycharm": {
     "name": "#%%\n"
    },
    "tags": []
   },
   "outputs": [],
   "source": [
    "embeddings_dictionary = dict()\n",
    "embedding_dimension = 100\n",
    "glove_file = open(\"/kaggle/input/glovetwitter27b/glove.twitter.27B.100d.txt\", encoding=\"utf8\")"
   ]
  },
  {
   "cell_type": "markdown",
   "id": "e0313483",
   "metadata": {
    "papermill": {
     "duration": 0.070008,
     "end_time": "2022-05-28T18:34:36.580326",
     "exception": false,
     "start_time": "2022-05-28T18:34:36.510318",
     "status": "completed"
    },
    "pycharm": {
     "name": "#%% md\n"
    },
    "tags": []
   },
   "source": [
    "### Apply word embedding"
   ]
  },
  {
   "cell_type": "code",
   "execution_count": 31,
   "id": "461dc8d3",
   "metadata": {
    "execution": {
     "iopub.execute_input": "2022-05-28T18:34:36.729199Z",
     "iopub.status.busy": "2022-05-28T18:34:36.728552Z",
     "iopub.status.idle": "2022-05-28T18:35:34.485114Z",
     "shell.execute_reply": "2022-05-28T18:35:34.484568Z",
     "shell.execute_reply.started": "2022-05-27T17:45:10.954675Z"
    },
    "papermill": {
     "duration": 57.83359,
     "end_time": "2022-05-28T18:35:34.485361",
     "exception": false,
     "start_time": "2022-05-28T18:34:36.651771",
     "status": "completed"
    },
    "pycharm": {
     "name": "#%%\n"
    },
    "tags": []
   },
   "outputs": [],
   "source": [
    "# Iterate through the glove file\n",
    "for line in glove_file:\n",
    "    # Split each line\n",
    "    records = line.split()\n",
    "    # Get the actual word\n",
    "    word = records[0]\n",
    "    # Get the dimensional representation\n",
    "    representation = np.asarray(records[1:], dtype=\"float32\")\n",
    "    # Update the words dictionary\n",
    "    embeddings_dictionary[word] = representation\n",
    "\n",
    "# Close the file\n",
    "glove_file.close()\n",
    "\n",
    "# Initialize the embedding_matrix\n",
    "embeddings_matrix = np.zeros((vocab_size, embedding_dimension))\n",
    "\n",
    "# Iterate through the tokenizer words list\n",
    "for word, index in tokenizer.word_index.items():\n",
    "    # Get the word representation\n",
    "    embedding_vector = embeddings_dictionary.get(word)\n",
    "    # Update the word representation if it exist in our dictionary\n",
    "    if embedding_vector is not None:\n",
    "        embeddings_matrix[index] = embedding_vector"
   ]
  },
  {
   "cell_type": "markdown",
   "id": "57102cab",
   "metadata": {
    "papermill": {
     "duration": 0.070222,
     "end_time": "2022-05-28T18:35:34.624925",
     "exception": false,
     "start_time": "2022-05-28T18:35:34.554703",
     "status": "completed"
    },
    "pycharm": {
     "name": "#%% md\n"
    },
    "tags": []
   },
   "source": [
    "\n",
    "# Define the model"
   ]
  },
  {
   "cell_type": "markdown",
   "id": "e887f1a3",
   "metadata": {
    "papermill": {
     "duration": 0.072058,
     "end_time": "2022-05-28T18:35:34.765245",
     "exception": false,
     "start_time": "2022-05-28T18:35:34.693187",
     "status": "completed"
    },
    "pycharm": {
     "name": "#%% md\n"
    },
    "tags": []
   },
   "source": [
    "## Set the training parameters"
   ]
  },
  {
   "cell_type": "code",
   "execution_count": 32,
   "id": "6f255f26",
   "metadata": {
    "execution": {
     "iopub.execute_input": "2022-05-28T18:35:34.912229Z",
     "iopub.status.busy": "2022-05-28T18:35:34.911133Z",
     "iopub.status.idle": "2022-05-28T18:35:34.913734Z",
     "shell.execute_reply": "2022-05-28T18:35:34.914359Z",
     "shell.execute_reply.started": "2022-05-27T17:45:49.330245Z"
    },
    "papermill": {
     "duration": 0.078982,
     "end_time": "2022-05-28T18:35:34.914602",
     "exception": false,
     "start_time": "2022-05-28T18:35:34.835620",
     "status": "completed"
    },
    "pycharm": {
     "name": "#%%\n"
    },
    "tags": []
   },
   "outputs": [],
   "source": [
    "num_epochs = 50\n",
    "batch_size = 1000"
   ]
  },
  {
   "cell_type": "markdown",
   "id": "abe71941",
   "metadata": {
    "papermill": {
     "duration": 0.070275,
     "end_time": "2022-05-28T18:35:35.056915",
     "exception": false,
     "start_time": "2022-05-28T18:35:34.986640",
     "status": "completed"
    },
    "pycharm": {
     "name": "#%% md\n"
    },
    "tags": []
   },
   "source": [
    "## Define the embedding layer"
   ]
  },
  {
   "cell_type": "code",
   "execution_count": 33,
   "id": "37e39d3a",
   "metadata": {
    "execution": {
     "iopub.execute_input": "2022-05-28T18:35:35.202391Z",
     "iopub.status.busy": "2022-05-28T18:35:35.201719Z",
     "iopub.status.idle": "2022-05-28T18:35:35.217848Z",
     "shell.execute_reply": "2022-05-28T18:35:35.217334Z",
     "shell.execute_reply.started": "2022-05-27T17:45:49.338398Z"
    },
    "papermill": {
     "duration": 0.090961,
     "end_time": "2022-05-28T18:35:35.217975",
     "exception": false,
     "start_time": "2022-05-28T18:35:35.127014",
     "status": "completed"
    },
    "pycharm": {
     "name": "#%%\n"
    },
    "tags": []
   },
   "outputs": [],
   "source": [
    "embedding_layer = tf.keras.layers.Embedding(\n",
    "                            vocab_size,\n",
    "                            embedding_dimension,\n",
    "                            input_length=max_length,\n",
    "                            weights=[embeddings_matrix],\n",
    "                            trainable=False\n",
    ")"
   ]
  },
  {
   "cell_type": "markdown",
   "id": "95d2481e",
   "metadata": {
    "papermill": {
     "duration": 0.069096,
     "end_time": "2022-05-28T18:35:35.355444",
     "exception": false,
     "start_time": "2022-05-28T18:35:35.286348",
     "status": "completed"
    },
    "pycharm": {
     "name": "#%% md\n"
    },
    "tags": []
   },
   "source": [
    "## Define the callback : Early Stopping\n",
    "We setup the Early Stopping callback to stop the training process if the **validation accuracy** stops increasing after 10 epochs, and restore the weights which minimize the validation accuracy.\n",
    "Important parameters :\n",
    "- **Monitor :** keras will stop training when the monitored metric has stopped improving. The direction (minimze or maximize) is automatically infered from the monitored quantity name, although it remains adjustable with the \"mode\" parameter\n",
    "- **Patience :** the number of epochs without improvement after which the callback will be triggered (i.e, the model will stop training)\n",
    "- **Restore best weights :** tells the model to restore the weights from the \"best\" epoch according to the monitored value"
   ]
  },
  {
   "cell_type": "code",
   "execution_count": 34,
   "id": "6c2c5437",
   "metadata": {
    "execution": {
     "iopub.execute_input": "2022-05-28T18:35:35.500861Z",
     "iopub.status.busy": "2022-05-28T18:35:35.499791Z",
     "iopub.status.idle": "2022-05-28T18:35:35.501982Z",
     "shell.execute_reply": "2022-05-28T18:35:35.502532Z",
     "shell.execute_reply.started": "2022-05-27T17:45:49.372692Z"
    },
    "papermill": {
     "duration": 0.077917,
     "end_time": "2022-05-28T18:35:35.502687",
     "exception": false,
     "start_time": "2022-05-28T18:35:35.424770",
     "status": "completed"
    },
    "pycharm": {
     "name": "#%%\n"
    },
    "tags": []
   },
   "outputs": [],
   "source": [
    "stop_early = tf.keras.callbacks.EarlyStopping(\n",
    "    monitor=\"val_accuracy\",\n",
    "    patience=10,\n",
    "    mode =\"max\",\n",
    "    verbose=2,\n",
    "    restore_best_weights=True\n",
    ")"
   ]
  },
  {
   "cell_type": "code",
   "execution_count": 35,
   "id": "c8e9b563",
   "metadata": {
    "execution": {
     "iopub.execute_input": "2022-05-28T18:35:35.650761Z",
     "iopub.status.busy": "2022-05-28T18:35:35.649954Z",
     "iopub.status.idle": "2022-05-28T18:35:36.430793Z",
     "shell.execute_reply": "2022-05-28T18:35:36.429884Z",
     "shell.execute_reply.started": "2022-05-28T18:25:10.878167Z"
    },
    "papermill": {
     "duration": 0.859393,
     "end_time": "2022-05-28T18:35:36.430936",
     "exception": false,
     "start_time": "2022-05-28T18:35:35.571543",
     "status": "completed"
    },
    "tags": [],
    "pycharm": {
     "name": "#%%\n"
    }
   },
   "outputs": [],
   "source": [
    "!mkdir training_1\n",
    "checkpoint_path = \"training_1/cp.ckpt\"\n",
    "checkpoint_dir = os.path.dirname(checkpoint_path)\n",
    "\n",
    "cp_callback = tf.keras.callbacks.ModelCheckpoint(filepath=checkpoint_path,\n",
    "                                                 save_weights_only=True,\n",
    "                                                 verbose=1)"
   ]
  },
  {
   "cell_type": "markdown",
   "id": "a3803485",
   "metadata": {
    "papermill": {
     "duration": 0.06801,
     "end_time": "2022-05-28T18:35:36.569342",
     "exception": false,
     "start_time": "2022-05-28T18:35:36.501332",
     "status": "completed"
    },
    "pycharm": {
     "name": "#%% md\n"
    },
    "tags": []
   },
   "source": [
    "## Create the model\n",
    "\n",
    "Architecture :\n",
    "\n",
    "- The embedding layer defined before\n",
    "- 1 D CNN Layer\n",
    "- Max Pooling Layer\n",
    "- 3 Bidirectional LSTM layers followed by dropout layers\n",
    "- Dense Layer\n",
    "\n",
    "To sum up :\n",
    "- Recurrent neural networks can obtain context information but the order\n",
    "of words will lead to bias;\n",
    "- The text analysis method based on Convolutional neural network (CNN) can obtain important features of text through pooling but it is difficult to obtain contextual information."
   ]
  },
  {
   "cell_type": "code",
   "execution_count": 36,
   "id": "d78e8bde",
   "metadata": {
    "execution": {
     "iopub.execute_input": "2022-05-28T18:35:39.040545Z",
     "iopub.status.busy": "2022-05-28T18:35:39.029453Z",
     "iopub.status.idle": "2022-05-28T18:35:41.886928Z",
     "shell.execute_reply": "2022-05-28T18:35:41.887807Z",
     "shell.execute_reply.started": "2022-05-27T17:45:49.380024Z"
    },
    "papermill": {
     "duration": 5.248575,
     "end_time": "2022-05-28T18:35:41.888082",
     "exception": false,
     "start_time": "2022-05-28T18:35:36.639507",
     "status": "completed"
    },
    "pycharm": {
     "name": "#%%\n"
    },
    "tags": []
   },
   "outputs": [
    {
     "name": "stderr",
     "output_type": "stream",
     "text": [
      "2022-05-28 18:35:36.734385: I tensorflow/compiler/jit/xla_cpu_device.cc:41] Not creating XLA devices, tf_xla_enable_xla_devices not set\n",
      "2022-05-28 18:35:36.738355: I tensorflow/stream_executor/platform/default/dso_loader.cc:49] Successfully opened dynamic library libcuda.so.1\n",
      "2022-05-28 18:35:36.808468: I tensorflow/stream_executor/cuda/cuda_gpu_executor.cc:941] successful NUMA node read from SysFS had negative value (-1), but there must be at least one NUMA node, so returning NUMA node zero\n",
      "2022-05-28 18:35:36.809493: I tensorflow/core/common_runtime/gpu/gpu_device.cc:1720] Found device 0 with properties: \n",
      "pciBusID: 0000:00:04.0 name: Tesla P100-PCIE-16GB computeCapability: 6.0\n",
      "coreClock: 1.3285GHz coreCount: 56 deviceMemorySize: 15.90GiB deviceMemoryBandwidth: 681.88GiB/s\n",
      "2022-05-28 18:35:36.809551: I tensorflow/stream_executor/platform/default/dso_loader.cc:49] Successfully opened dynamic library libcudart.so.11.0\n",
      "2022-05-28 18:35:36.858587: I tensorflow/stream_executor/platform/default/dso_loader.cc:49] Successfully opened dynamic library libcublas.so.11\n",
      "2022-05-28 18:35:36.858751: I tensorflow/stream_executor/platform/default/dso_loader.cc:49] Successfully opened dynamic library libcublasLt.so.11\n",
      "2022-05-28 18:35:36.883132: I tensorflow/stream_executor/platform/default/dso_loader.cc:49] Successfully opened dynamic library libcufft.so.10\n",
      "2022-05-28 18:35:36.910517: I tensorflow/stream_executor/platform/default/dso_loader.cc:49] Successfully opened dynamic library libcurand.so.10\n",
      "2022-05-28 18:35:36.967336: I tensorflow/stream_executor/platform/default/dso_loader.cc:49] Successfully opened dynamic library libcusolver.so.10\n",
      "2022-05-28 18:35:36.978700: I tensorflow/stream_executor/platform/default/dso_loader.cc:49] Successfully opened dynamic library libcusparse.so.11\n",
      "2022-05-28 18:35:36.983047: I tensorflow/stream_executor/platform/default/dso_loader.cc:49] Successfully opened dynamic library libcudnn.so.8\n",
      "2022-05-28 18:35:36.983397: I tensorflow/stream_executor/cuda/cuda_gpu_executor.cc:941] successful NUMA node read from SysFS had negative value (-1), but there must be at least one NUMA node, so returning NUMA node zero\n",
      "2022-05-28 18:35:36.984559: I tensorflow/stream_executor/cuda/cuda_gpu_executor.cc:941] successful NUMA node read from SysFS had negative value (-1), but there must be at least one NUMA node, so returning NUMA node zero\n",
      "2022-05-28 18:35:36.987777: I tensorflow/core/common_runtime/gpu/gpu_device.cc:1862] Adding visible gpu devices: 0\n",
      "2022-05-28 18:35:36.988684: I tensorflow/core/platform/cpu_feature_guard.cc:142] This TensorFlow binary is optimized with oneAPI Deep Neural Network Library (oneDNN) to use the following CPU instructions in performance-critical operations:  AVX2 FMA\n",
      "To enable them in other operations, rebuild TensorFlow with the appropriate compiler flags.\n",
      "2022-05-28 18:35:36.988968: I tensorflow/compiler/jit/xla_gpu_device.cc:99] Not creating XLA devices, tf_xla_enable_xla_devices not set\n",
      "2022-05-28 18:35:36.989168: I tensorflow/stream_executor/cuda/cuda_gpu_executor.cc:941] successful NUMA node read from SysFS had negative value (-1), but there must be at least one NUMA node, so returning NUMA node zero\n",
      "2022-05-28 18:35:36.990212: I tensorflow/core/common_runtime/gpu/gpu_device.cc:1720] Found device 0 with properties: \n",
      "pciBusID: 0000:00:04.0 name: Tesla P100-PCIE-16GB computeCapability: 6.0\n",
      "coreClock: 1.3285GHz coreCount: 56 deviceMemorySize: 15.90GiB deviceMemoryBandwidth: 681.88GiB/s\n",
      "2022-05-28 18:35:36.990340: I tensorflow/stream_executor/platform/default/dso_loader.cc:49] Successfully opened dynamic library libcudart.so.11.0\n",
      "2022-05-28 18:35:36.990389: I tensorflow/stream_executor/platform/default/dso_loader.cc:49] Successfully opened dynamic library libcublas.so.11\n",
      "2022-05-28 18:35:36.990427: I tensorflow/stream_executor/platform/default/dso_loader.cc:49] Successfully opened dynamic library libcublasLt.so.11\n",
      "2022-05-28 18:35:36.990480: I tensorflow/stream_executor/platform/default/dso_loader.cc:49] Successfully opened dynamic library libcufft.so.10\n",
      "2022-05-28 18:35:36.990515: I tensorflow/stream_executor/platform/default/dso_loader.cc:49] Successfully opened dynamic library libcurand.so.10\n",
      "2022-05-28 18:35:36.990565: I tensorflow/stream_executor/platform/default/dso_loader.cc:49] Successfully opened dynamic library libcusolver.so.10\n",
      "2022-05-28 18:35:36.990602: I tensorflow/stream_executor/platform/default/dso_loader.cc:49] Successfully opened dynamic library libcusparse.so.11\n",
      "2022-05-28 18:35:36.990637: I tensorflow/stream_executor/platform/default/dso_loader.cc:49] Successfully opened dynamic library libcudnn.so.8\n",
      "2022-05-28 18:35:36.990753: I tensorflow/stream_executor/cuda/cuda_gpu_executor.cc:941] successful NUMA node read from SysFS had negative value (-1), but there must be at least one NUMA node, so returning NUMA node zero\n",
      "2022-05-28 18:35:36.991783: I tensorflow/stream_executor/cuda/cuda_gpu_executor.cc:941] successful NUMA node read from SysFS had negative value (-1), but there must be at least one NUMA node, so returning NUMA node zero\n",
      "2022-05-28 18:35:36.992736: I tensorflow/core/common_runtime/gpu/gpu_device.cc:1862] Adding visible gpu devices: 0\n",
      "2022-05-28 18:35:36.994153: I tensorflow/stream_executor/platform/default/dso_loader.cc:49] Successfully opened dynamic library libcudart.so.11.0\n",
      "2022-05-28 18:35:39.011967: I tensorflow/core/common_runtime/gpu/gpu_device.cc:1261] Device interconnect StreamExecutor with strength 1 edge matrix:\n",
      "2022-05-28 18:35:39.012028: I tensorflow/core/common_runtime/gpu/gpu_device.cc:1267]      0 \n",
      "2022-05-28 18:35:39.012046: I tensorflow/core/common_runtime/gpu/gpu_device.cc:1280] 0:   N \n",
      "2022-05-28 18:35:39.015479: I tensorflow/stream_executor/cuda/cuda_gpu_executor.cc:941] successful NUMA node read from SysFS had negative value (-1), but there must be at least one NUMA node, so returning NUMA node zero\n",
      "2022-05-28 18:35:39.016620: I tensorflow/stream_executor/cuda/cuda_gpu_executor.cc:941] successful NUMA node read from SysFS had negative value (-1), but there must be at least one NUMA node, so returning NUMA node zero\n",
      "2022-05-28 18:35:39.017524: I tensorflow/stream_executor/cuda/cuda_gpu_executor.cc:941] successful NUMA node read from SysFS had negative value (-1), but there must be at least one NUMA node, so returning NUMA node zero\n",
      "2022-05-28 18:35:39.018374: I tensorflow/core/common_runtime/gpu/gpu_device.cc:1406] Created TensorFlow device (/job:localhost/replica:0/task:0/device:GPU:0 with 14957 MB memory) -> physical GPU (device: 0, name: Tesla P100-PCIE-16GB, pci bus id: 0000:00:04.0, compute capability: 6.0)\n"
     ]
    }
   ],
   "source": [
    "hybrid_cnn_lstm_model = tf.keras.models.Sequential([\n",
    "        embedding_layer,\n",
    "        tf.keras.layers.Conv1D(filters=embedding_dimension, kernel_size=3, padding='same',input_shape = (max_length,), activation='relu'),\n",
    "        tf.keras.layers.MaxPooling1D(pool_size=2),\n",
    "        tf.keras.layers.Bidirectional(tf.keras.layers.LSTM(units=128, return_sequences=True)),\n",
    "        tf.keras.layers.Dropout(0.2),\n",
    "        tf.keras.layers.Bidirectional(tf.keras.layers.LSTM(units=128)),\n",
    "        tf.keras.layers.Dropout(0.2),\n",
    "        tf.keras.layers.Dense(64, activation=\"relu\"),\n",
    "        tf.keras.layers.Dense(1, activation=\"sigmoid\"),\n",
    "    ])"
   ]
  },
  {
   "cell_type": "markdown",
   "id": "81295cd8",
   "metadata": {
    "papermill": {
     "duration": 0.125172,
     "end_time": "2022-05-28T18:35:42.142810",
     "exception": false,
     "start_time": "2022-05-28T18:35:42.017638",
     "status": "completed"
    },
    "tags": [],
    "pycharm": {
     "name": "#%% md\n"
    }
   },
   "source": [
    "### Compile the Model"
   ]
  },
  {
   "cell_type": "code",
   "execution_count": 37,
   "id": "f99f4c3f",
   "metadata": {
    "collapsed": false,
    "execution": {
     "iopub.execute_input": "2022-05-28T18:35:42.308573Z",
     "iopub.status.busy": "2022-05-28T18:35:42.307519Z",
     "iopub.status.idle": "2022-05-28T18:35:42.314844Z",
     "shell.execute_reply": "2022-05-28T18:35:42.314325Z",
     "shell.execute_reply.started": "2022-05-27T17:45:53.323735Z"
    },
    "jupyter": {
     "outputs_hidden": false
    },
    "papermill": {
     "duration": 0.091562,
     "end_time": "2022-05-28T18:35:42.314973",
     "exception": false,
     "start_time": "2022-05-28T18:35:42.223411",
     "status": "completed"
    },
    "pycharm": {
     "name": "#%%\n"
    },
    "tags": []
   },
   "outputs": [],
   "source": [
    "hybrid_cnn_lstm_model.compile(\n",
    "       optimizer = tf.keras.optimizers.Adam(learning_rate = 0.0001),\n",
    "       loss=\"binary_crossentropy\",\n",
    "       metrics=[\"accuracy\"]\n",
    "  )"
   ]
  },
  {
   "cell_type": "markdown",
   "id": "164bcf19",
   "metadata": {
    "papermill": {
     "duration": 0.070203,
     "end_time": "2022-05-28T18:35:42.455205",
     "exception": false,
     "start_time": "2022-05-28T18:35:42.385002",
     "status": "completed"
    },
    "tags": [],
    "pycharm": {
     "name": "#%% md\n"
    }
   },
   "source": [
    "### Model Summary"
   ]
  },
  {
   "cell_type": "code",
   "execution_count": 38,
   "id": "a170dda0",
   "metadata": {
    "execution": {
     "iopub.execute_input": "2022-05-28T18:35:42.608704Z",
     "iopub.status.busy": "2022-05-28T18:35:42.600551Z",
     "iopub.status.idle": "2022-05-28T18:35:42.612104Z",
     "shell.execute_reply": "2022-05-28T18:35:42.612713Z",
     "shell.execute_reply.started": "2022-05-27T17:45:53.34054Z"
    },
    "papermill": {
     "duration": 0.088354,
     "end_time": "2022-05-28T18:35:42.612857",
     "exception": false,
     "start_time": "2022-05-28T18:35:42.524503",
     "status": "completed"
    },
    "pycharm": {
     "name": "#%%\n"
    },
    "tags": []
   },
   "outputs": [
    {
     "name": "stdout",
     "output_type": "stream",
     "text": [
      "Model: \"sequential\"\n",
      "_________________________________________________________________\n",
      "Layer (type)                 Output Shape              Param #   \n",
      "=================================================================\n",
      "embedding (Embedding)        (None, 51, 100)           26807900  \n",
      "_________________________________________________________________\n",
      "conv1d (Conv1D)              (None, 51, 100)           30100     \n",
      "_________________________________________________________________\n",
      "max_pooling1d (MaxPooling1D) (None, 25, 100)           0         \n",
      "_________________________________________________________________\n",
      "bidirectional (Bidirectional (None, 25, 256)           234496    \n",
      "_________________________________________________________________\n",
      "dropout (Dropout)            (None, 25, 256)           0         \n",
      "_________________________________________________________________\n",
      "bidirectional_1 (Bidirection (None, 256)               394240    \n",
      "_________________________________________________________________\n",
      "dropout_1 (Dropout)          (None, 256)               0         \n",
      "_________________________________________________________________\n",
      "dense (Dense)                (None, 64)                16448     \n",
      "_________________________________________________________________\n",
      "dense_1 (Dense)              (None, 1)                 65        \n",
      "=================================================================\n",
      "Total params: 27,483,249\n",
      "Trainable params: 675,349\n",
      "Non-trainable params: 26,807,900\n",
      "_________________________________________________________________\n"
     ]
    }
   ],
   "source": [
    "hybrid_cnn_lstm_model.summary()"
   ]
  },
  {
   "cell_type": "markdown",
   "id": "be1b5b27",
   "metadata": {
    "papermill": {
     "duration": 0.071029,
     "end_time": "2022-05-28T18:35:42.754006",
     "exception": false,
     "start_time": "2022-05-28T18:35:42.682977",
     "status": "completed"
    },
    "tags": [],
    "pycharm": {
     "name": "#%% md\n"
    }
   },
   "source": [
    "### Plot the model architecture"
   ]
  },
  {
   "cell_type": "code",
   "execution_count": 39,
   "id": "d83e288a",
   "metadata": {
    "execution": {
     "iopub.execute_input": "2022-05-28T18:35:42.903316Z",
     "iopub.status.busy": "2022-05-28T18:35:42.902110Z",
     "iopub.status.idle": "2022-05-28T18:35:44.247958Z",
     "shell.execute_reply": "2022-05-28T18:35:44.247447Z",
     "shell.execute_reply.started": "2022-05-27T17:45:53.349952Z"
    },
    "papermill": {
     "duration": 1.423088,
     "end_time": "2022-05-28T18:35:44.248114",
     "exception": false,
     "start_time": "2022-05-28T18:35:42.825026",
     "status": "completed"
    },
    "pycharm": {
     "name": "#%%\n"
    },
    "tags": []
   },
   "outputs": [
    {
     "data": {
      "image/png": "[encoded data removed]",
      "text/plain": [
       "<IPython.core.display.Image object>"
      ]
     },
     "execution_count": 39,
     "metadata": {},
     "output_type": "execute_result"
    }
   ],
   "source": [
    "tf.keras.utils.plot_model(hybrid_cnn_lstm_model, show_shapes=True)"
   ]
  },
  {
   "cell_type": "markdown",
   "id": "6ec8fb90",
   "metadata": {
    "papermill": {
     "duration": 0.074472,
     "end_time": "2022-05-28T18:35:44.395876",
     "exception": false,
     "start_time": "2022-05-28T18:35:44.321404",
     "status": "completed"
    },
    "tags": [],
    "pycharm": {
     "name": "#%% md\n"
    }
   },
   "source": [
    "### Train the Model"
   ]
  },
  {
   "cell_type": "code",
   "execution_count": 40,
   "id": "063051d3",
   "metadata": {
    "collapsed": false,
    "execution": {
     "iopub.execute_input": "2022-05-28T18:35:44.548667Z",
     "iopub.status.busy": "2022-05-28T18:35:44.547964Z",
     "iopub.status.idle": "2022-05-28T19:25:37.796430Z",
     "shell.execute_reply": "2022-05-28T19:25:37.796985Z",
     "shell.execute_reply.started": "2022-05-27T17:45:54.44752Z"
    },
    "jupyter": {
     "outputs_hidden": false
    },
    "papermill": {
     "duration": 2993.327527,
     "end_time": "2022-05-28T19:25:37.797195",
     "exception": false,
     "start_time": "2022-05-28T18:35:44.469668",
     "status": "completed"
    },
    "pycharm": {
     "is_executing": true,
     "name": "#%%\n"
    },
    "tags": []
   },
   "outputs": [
    {
     "name": "stderr",
     "output_type": "stream",
     "text": [
      "2022-05-28 18:35:44.818957: I tensorflow/compiler/mlir/mlir_graph_optimization_pass.cc:116] None of the MLIR optimization passes are enabled (registered 2)\n",
      "2022-05-28 18:35:44.832789: I tensorflow/core/platform/profile_utils/cpu_utils.cc:112] CPU Frequency: 2199995000 Hz\n"
     ]
    },
    {
     "name": "stdout",
     "output_type": "stream",
     "text": [
      "Epoch 1/50\n"
     ]
    },
    {
     "name": "stderr",
     "output_type": "stream",
     "text": [
      "2022-05-28 18:35:50.101115: I tensorflow/stream_executor/platform/default/dso_loader.cc:49] Successfully opened dynamic library libcublas.so.11\n",
      "2022-05-28 18:35:51.188457: I tensorflow/stream_executor/platform/default/dso_loader.cc:49] Successfully opened dynamic library libcublasLt.so.11\n",
      "2022-05-28 18:35:51.230714: I tensorflow/stream_executor/platform/default/dso_loader.cc:49] Successfully opened dynamic library libcudnn.so.8\n"
     ]
    },
    {
     "name": "stdout",
     "output_type": "stream",
     "text": [
      "1440/1440 [==============================] - 81s 47ms/step - loss: 0.5413 - accuracy: 0.7208 - val_loss: 0.4706 - val_accuracy: 0.7742\n",
      "\n",
      "Epoch 00001: saving model to training_1/cp.ckpt\n",
      "Epoch 2/50\n",
      "1440/1440 [==============================] - 66s 46ms/step - loss: 0.4648 - accuracy: 0.7782 - val_loss: 0.4566 - val_accuracy: 0.7833\n",
      "\n",
      "Epoch 00002: saving model to training_1/cp.ckpt\n",
      "Epoch 3/50\n",
      "1440/1440 [==============================] - 66s 46ms/step - loss: 0.4500 - accuracy: 0.7877 - val_loss: 0.4466 - val_accuracy: 0.7896\n",
      "\n",
      "Epoch 00003: saving model to training_1/cp.ckpt\n",
      "Epoch 4/50\n",
      "1440/1440 [==============================] - 66s 46ms/step - loss: 0.4424 - accuracy: 0.7924 - val_loss: 0.4413 - val_accuracy: 0.7930\n",
      "\n",
      "Epoch 00004: saving model to training_1/cp.ckpt\n",
      "Epoch 5/50\n",
      "1440/1440 [==============================] - 65s 45ms/step - loss: 0.4360 - accuracy: 0.7962 - val_loss: 0.4378 - val_accuracy: 0.7951\n",
      "\n",
      "Epoch 00005: saving model to training_1/cp.ckpt\n",
      "Epoch 6/50\n",
      "1440/1440 [==============================] - 65s 45ms/step - loss: 0.4319 - accuracy: 0.7984 - val_loss: 0.4366 - val_accuracy: 0.7958\n",
      "\n",
      "Epoch 00006: saving model to training_1/cp.ckpt\n",
      "Epoch 7/50\n",
      "1440/1440 [==============================] - 65s 45ms/step - loss: 0.4275 - accuracy: 0.8009 - val_loss: 0.4319 - val_accuracy: 0.7989\n",
      "\n",
      "Epoch 00007: saving model to training_1/cp.ckpt\n",
      "Epoch 8/50\n",
      "1440/1440 [==============================] - 66s 46ms/step - loss: 0.4249 - accuracy: 0.8026 - val_loss: 0.4318 - val_accuracy: 0.7984\n",
      "\n",
      "Epoch 00008: saving model to training_1/cp.ckpt\n",
      "Epoch 9/50\n",
      "1440/1440 [==============================] - 66s 46ms/step - loss: 0.4215 - accuracy: 0.8046 - val_loss: 0.4295 - val_accuracy: 0.7997\n",
      "\n",
      "Epoch 00009: saving model to training_1/cp.ckpt\n",
      "Epoch 10/50\n",
      "1440/1440 [==============================] - 66s 46ms/step - loss: 0.4191 - accuracy: 0.8059 - val_loss: 0.4298 - val_accuracy: 0.7991\n",
      "\n",
      "Epoch 00010: saving model to training_1/cp.ckpt\n",
      "Epoch 11/50\n",
      "1440/1440 [==============================] - 66s 46ms/step - loss: 0.4175 - accuracy: 0.8068 - val_loss: 0.4255 - val_accuracy: 0.8022\n",
      "\n",
      "Epoch 00011: saving model to training_1/cp.ckpt\n",
      "Epoch 12/50\n",
      "1440/1440 [==============================] - 66s 46ms/step - loss: 0.4149 - accuracy: 0.8086 - val_loss: 0.4262 - val_accuracy: 0.8024\n",
      "\n",
      "Epoch 00012: saving model to training_1/cp.ckpt\n",
      "Epoch 13/50\n",
      "1440/1440 [==============================] - 66s 46ms/step - loss: 0.4131 - accuracy: 0.8093 - val_loss: 0.4232 - val_accuracy: 0.8034\n",
      "\n",
      "Epoch 00013: saving model to training_1/cp.ckpt\n",
      "Epoch 14/50\n",
      "1440/1440 [==============================] - 66s 46ms/step - loss: 0.4112 - accuracy: 0.8111 - val_loss: 0.4237 - val_accuracy: 0.8029\n",
      "\n",
      "Epoch 00014: saving model to training_1/cp.ckpt\n",
      "Epoch 15/50\n",
      "1440/1440 [==============================] - 65s 45ms/step - loss: 0.4095 - accuracy: 0.8117 - val_loss: 0.4223 - val_accuracy: 0.8047\n",
      "\n",
      "Epoch 00015: saving model to training_1/cp.ckpt\n",
      "Epoch 16/50\n",
      "1440/1440 [==============================] - 65s 45ms/step - loss: 0.4077 - accuracy: 0.8127 - val_loss: 0.4216 - val_accuracy: 0.8046\n",
      "\n",
      "Epoch 00016: saving model to training_1/cp.ckpt\n",
      "Epoch 17/50\n",
      "1440/1440 [==============================] - 65s 45ms/step - loss: 0.4067 - accuracy: 0.8130 - val_loss: 0.4219 - val_accuracy: 0.8051\n",
      "\n",
      "Epoch 00017: saving model to training_1/cp.ckpt\n",
      "Epoch 18/50\n",
      "1440/1440 [==============================] - 66s 46ms/step - loss: 0.4052 - accuracy: 0.8145 - val_loss: 0.4241 - val_accuracy: 0.8031\n",
      "\n",
      "Epoch 00018: saving model to training_1/cp.ckpt\n",
      "Epoch 19/50\n",
      "1440/1440 [==============================] - 66s 46ms/step - loss: 0.4043 - accuracy: 0.8144 - val_loss: 0.4228 - val_accuracy: 0.8042\n",
      "\n",
      "Epoch 00019: saving model to training_1/cp.ckpt\n",
      "Epoch 20/50\n",
      "1440/1440 [==============================] - 65s 45ms/step - loss: 0.4031 - accuracy: 0.8152 - val_loss: 0.4195 - val_accuracy: 0.8058\n",
      "\n",
      "Epoch 00020: saving model to training_1/cp.ckpt\n",
      "Epoch 21/50\n",
      "1440/1440 [==============================] - 65s 45ms/step - loss: 0.4016 - accuracy: 0.8163 - val_loss: 0.4203 - val_accuracy: 0.8053\n",
      "\n",
      "Epoch 00021: saving model to training_1/cp.ckpt\n",
      "Epoch 22/50\n",
      "1440/1440 [==============================] - 66s 46ms/step - loss: 0.4008 - accuracy: 0.8168 - val_loss: 0.4216 - val_accuracy: 0.8043\n",
      "\n",
      "Epoch 00022: saving model to training_1/cp.ckpt\n",
      "Epoch 23/50\n",
      "1440/1440 [==============================] - 66s 46ms/step - loss: 0.3998 - accuracy: 0.8168 - val_loss: 0.4197 - val_accuracy: 0.8073\n",
      "\n",
      "Epoch 00023: saving model to training_1/cp.ckpt\n",
      "Epoch 24/50\n",
      "1440/1440 [==============================] - 65s 45ms/step - loss: 0.3994 - accuracy: 0.8175 - val_loss: 0.4203 - val_accuracy: 0.8054\n",
      "\n",
      "Epoch 00024: saving model to training_1/cp.ckpt\n",
      "Epoch 25/50\n",
      "1440/1440 [==============================] - 66s 46ms/step - loss: 0.3982 - accuracy: 0.8181 - val_loss: 0.4183 - val_accuracy: 0.8066\n",
      "\n",
      "Epoch 00025: saving model to training_1/cp.ckpt\n",
      "Epoch 26/50\n",
      "1440/1440 [==============================] - 65s 45ms/step - loss: 0.3973 - accuracy: 0.8184 - val_loss: 0.4217 - val_accuracy: 0.8056\n",
      "\n",
      "Epoch 00026: saving model to training_1/cp.ckpt\n",
      "Epoch 27/50\n",
      "1440/1440 [==============================] - 66s 46ms/step - loss: 0.3962 - accuracy: 0.8191 - val_loss: 0.4194 - val_accuracy: 0.8063\n",
      "\n",
      "Epoch 00027: saving model to training_1/cp.ckpt\n",
      "Epoch 28/50\n",
      "1440/1440 [==============================] - 66s 46ms/step - loss: 0.3952 - accuracy: 0.8198 - val_loss: 0.4200 - val_accuracy: 0.8052\n",
      "\n",
      "Epoch 00028: saving model to training_1/cp.ckpt\n",
      "Epoch 29/50\n",
      "1440/1440 [==============================] - 66s 46ms/step - loss: 0.3947 - accuracy: 0.8201 - val_loss: 0.4191 - val_accuracy: 0.8070\n",
      "\n",
      "Epoch 00029: saving model to training_1/cp.ckpt\n",
      "Epoch 30/50\n",
      "1440/1440 [==============================] - 66s 46ms/step - loss: 0.3938 - accuracy: 0.8207 - val_loss: 0.4189 - val_accuracy: 0.8061\n",
      "\n",
      "Epoch 00030: saving model to training_1/cp.ckpt\n",
      "Epoch 31/50\n",
      "1440/1440 [==============================] - 66s 46ms/step - loss: 0.3919 - accuracy: 0.8218 - val_loss: 0.4175 - val_accuracy: 0.8076\n",
      "\n",
      "Epoch 00031: saving model to training_1/cp.ckpt\n",
      "Epoch 32/50\n",
      "1440/1440 [==============================] - 66s 46ms/step - loss: 0.3921 - accuracy: 0.8212 - val_loss: 0.4186 - val_accuracy: 0.8072\n",
      "\n",
      "Epoch 00032: saving model to training_1/cp.ckpt\n",
      "Epoch 33/50\n",
      "1440/1440 [==============================] - 66s 46ms/step - loss: 0.3905 - accuracy: 0.8227 - val_loss: 0.4193 - val_accuracy: 0.8071\n",
      "\n",
      "Epoch 00033: saving model to training_1/cp.ckpt\n",
      "Epoch 34/50\n",
      "1440/1440 [==============================] - 66s 46ms/step - loss: 0.3911 - accuracy: 0.8221 - val_loss: 0.4183 - val_accuracy: 0.8069\n",
      "\n",
      "Epoch 00034: saving model to training_1/cp.ckpt\n",
      "Epoch 35/50\n",
      "1440/1440 [==============================] - 65s 45ms/step - loss: 0.3897 - accuracy: 0.8227 - val_loss: 0.4172 - val_accuracy: 0.8081\n",
      "\n",
      "Epoch 00035: saving model to training_1/cp.ckpt\n",
      "Epoch 36/50\n",
      "1440/1440 [==============================] - 66s 46ms/step - loss: 0.3893 - accuracy: 0.8230 - val_loss: 0.4195 - val_accuracy: 0.8068\n",
      "\n",
      "Epoch 00036: saving model to training_1/cp.ckpt\n",
      "Epoch 37/50\n",
      "1440/1440 [==============================] - 65s 45ms/step - loss: 0.3880 - accuracy: 0.8236 - val_loss: 0.4191 - val_accuracy: 0.8073\n",
      "\n",
      "Epoch 00037: saving model to training_1/cp.ckpt\n",
      "Epoch 38/50\n",
      "1440/1440 [==============================] - 66s 46ms/step - loss: 0.3880 - accuracy: 0.8239 - val_loss: 0.4178 - val_accuracy: 0.8077\n",
      "\n",
      "Epoch 00038: saving model to training_1/cp.ckpt\n",
      "Epoch 39/50\n",
      "1440/1440 [==============================] - 65s 45ms/step - loss: 0.3865 - accuracy: 0.8244 - val_loss: 0.4228 - val_accuracy: 0.8068\n",
      "\n",
      "Epoch 00039: saving model to training_1/cp.ckpt\n",
      "Epoch 40/50\n",
      "1440/1440 [==============================] - 66s 46ms/step - loss: 0.3853 - accuracy: 0.8254 - val_loss: 0.4192 - val_accuracy: 0.8072\n",
      "\n",
      "Epoch 00040: saving model to training_1/cp.ckpt\n",
      "Epoch 41/50\n",
      "1440/1440 [==============================] - 65s 45ms/step - loss: 0.3856 - accuracy: 0.8250 - val_loss: 0.4188 - val_accuracy: 0.8074\n",
      "\n",
      "Epoch 00041: saving model to training_1/cp.ckpt\n",
      "Epoch 42/50\n",
      "1440/1440 [==============================] - 66s 46ms/step - loss: 0.3835 - accuracy: 0.8263 - val_loss: 0.4224 - val_accuracy: 0.8052\n",
      "\n",
      "Epoch 00042: saving model to training_1/cp.ckpt\n",
      "Epoch 43/50\n",
      "1440/1440 [==============================] - 65s 45ms/step - loss: 0.3827 - accuracy: 0.8265 - val_loss: 0.4193 - val_accuracy: 0.8072\n",
      "\n",
      "Epoch 00043: saving model to training_1/cp.ckpt\n",
      "Epoch 44/50\n",
      "1440/1440 [==============================] - 67s 46ms/step - loss: 0.3823 - accuracy: 0.8272 - val_loss: 0.4185 - val_accuracy: 0.8078\n",
      "\n",
      "Epoch 00044: saving model to training_1/cp.ckpt\n",
      "Epoch 45/50\n",
      "1440/1440 [==============================] - 66s 46ms/step - loss: 0.3821 - accuracy: 0.8270 - val_loss: 0.4207 - val_accuracy: 0.8067\n",
      "Restoring model weights from the end of the best epoch.\n",
      "\n",
      "Epoch 00045: saving model to training_1/cp.ckpt\n",
      "Epoch 00045: early stopping\n"
     ]
    }
   ],
   "source": [
    "history = hybrid_cnn_lstm_model.fit(\n",
    "    X_train,\n",
    "    y_train,\n",
    "    batch_size=batch_size,\n",
    "    epochs=num_epochs,\n",
    "    verbose=1,\n",
    "    validation_data=(X_test,y_test),\n",
    "    callbacks = [stop_early, cp_callback]\n",
    ")"
   ]
  },
  {
   "cell_type": "markdown",
   "id": "7d0c9ea4",
   "metadata": {
    "papermill": {
     "duration": 11.709894,
     "end_time": "2022-05-28T19:26:02.124961",
     "exception": false,
     "start_time": "2022-05-28T19:25:50.415067",
     "status": "completed"
    },
    "tags": [],
    "pycharm": {
     "name": "#%% md\n"
    }
   },
   "source": [
    "### Plot the results"
   ]
  },
  {
   "cell_type": "code",
   "execution_count": 41,
   "id": "0f53209f",
   "metadata": {
    "execution": {
     "iopub.execute_input": "2022-05-28T19:26:26.287078Z",
     "iopub.status.busy": "2022-05-28T19:26:26.286194Z",
     "iopub.status.idle": "2022-05-28T19:26:26.290057Z",
     "shell.execute_reply": "2022-05-28T19:26:26.290638Z",
     "shell.execute_reply.started": "2022-05-27T18:43:05.369229Z"
    },
    "papermill": {
     "duration": 12.455446,
     "end_time": "2022-05-28T19:26:26.290838",
     "exception": false,
     "start_time": "2022-05-28T19:26:13.835392",
     "status": "completed"
    },
    "tags": [],
    "pycharm": {
     "name": "#%%\n"
    }
   },
   "outputs": [
    {
     "name": "stdout",
     "output_type": "stream",
     "text": [
      "Number of epochs: 45\n"
     ]
    }
   ],
   "source": [
    "number_of_epochs = len(history.history[\"loss\"])\n",
    "print(f\"Number of epochs: {number_of_epochs}\")"
   ]
  },
  {
   "cell_type": "code",
   "execution_count": 42,
   "id": "afc4ac41",
   "metadata": {
    "execution": {
     "iopub.execute_input": "2022-05-28T19:26:49.702944Z",
     "iopub.status.busy": "2022-05-28T19:26:49.701905Z",
     "iopub.status.idle": "2022-05-28T19:26:50.131091Z",
     "shell.execute_reply": "2022-05-28T19:26:50.130560Z",
     "shell.execute_reply.started": "2022-05-27T18:43:05.370878Z"
    },
    "papermill": {
     "duration": 12.206923,
     "end_time": "2022-05-28T19:26:50.131278",
     "exception": false,
     "start_time": "2022-05-28T19:26:37.924355",
     "status": "completed"
    },
    "tags": [],
    "pycharm": {
     "name": "#%%\n"
    }
   },
   "outputs": [
    {
     "data": {
      "image/png": "[encoded data removed]",
      "text/plain": [
       "<Figure size 1008x576 with 2 Axes>"
      ]
     },
     "metadata": {
      "needs_background": "light"
     },
     "output_type": "display_data"
    },
    {
     "name": "stdout",
     "output_type": "stream",
     "text": [
      "Maximum validation accuracy:  0.8081187605857849\n",
      "Minimum loss: 0.4171757400035858\n"
     ]
    }
   ],
   "source": [
    "# Get the accuracy results for each epoch\n",
    "acc = history.history[\"accuracy\"]\n",
    "val_acc = history.history[\"val_accuracy\"]\n",
    "# Get the loss results for each epoch\n",
    "loss = history.history[\"loss\"]\n",
    "val_loss = history.history[\"val_loss\"]\n",
    "# Get the epochs count\n",
    "epochs_range = range(len(history.history[\"loss\"]))\n",
    "\n",
    "# Create the plot area\n",
    "plt.figure(figsize=(14, 8))\n",
    "\n",
    "# Setup the first colum : Accuracy plot\n",
    "plt.subplot(1, 2, 1)\n",
    "# Plot the training and validation accuracy for these epochs\n",
    "plt.plot(epochs_range, acc, label=\"Training Accuracy\")\n",
    "plt.plot(epochs_range, val_acc, label=\"Validation Accuracy\")\n",
    "# Setup the legend\n",
    "plt.legend(loc=\"lower right\")\n",
    "plt.title(\"Training and Validation Accuracy\")\n",
    "\n",
    "# Setup the second colum : Loss plot\n",
    "plt.subplot(1, 2, 2)\n",
    "# Plot the training and validation loss for these epochs\n",
    "plt.plot(epochs_range, loss, label=\"Training Loss\")\n",
    "plt.plot(epochs_range, val_loss, label=\"Validation Loss\")\n",
    "# Setup the legend\n",
    "plt.legend(loc=\"upper right\")\n",
    "plt.title(\"Training and Validation Loss\")\n",
    "\n",
    "# Show the overall plot\n",
    "plt.show()\n",
    "\n",
    "position = np.argmax(history.history[\"val_accuracy\"])\n",
    "print(f\"Maximum validation accuracy:  {history.history['val_accuracy'][position]}\\nMinimum loss: {history.history['val_loss'][position]}\")"
   ]
  },
  {
   "cell_type": "code",
   "execution_count": 43,
   "id": "2cb3c27e",
   "metadata": {
    "execution": {
     "iopub.execute_input": "2022-05-28T19:27:14.155730Z",
     "iopub.status.busy": "2022-05-28T19:27:14.154817Z",
     "iopub.status.idle": "2022-05-28T19:27:14.158738Z",
     "shell.execute_reply": "2022-05-28T19:27:14.159283Z"
    },
    "papermill": {
     "duration": 11.513104,
     "end_time": "2022-05-28T19:27:14.159443",
     "exception": false,
     "start_time": "2022-05-28T19:27:02.646339",
     "status": "completed"
    },
    "tags": [],
    "pycharm": {
     "name": "#%%\n"
    }
   },
   "outputs": [
    {
     "name": "stdout",
     "output_type": "stream",
     "text": [
      "Best validation accuracy : 0.8081187605857849\n"
     ]
    }
   ],
   "source": [
    "best_accuracy = max(history.history[\"val_accuracy\"])\n",
    "print(f\"Best validation accuracy : {best_accuracy}\")"
   ]
  },
  {
   "cell_type": "markdown",
   "id": "a4b7e383",
   "metadata": {
    "papermill": {
     "duration": 11.743369,
     "end_time": "2022-05-28T19:27:38.207258",
     "exception": false,
     "start_time": "2022-05-28T19:27:26.463889",
     "status": "completed"
    },
    "tags": [],
    "pycharm": {
     "name": "#%% md\n"
    }
   },
   "source": [
    "### Print Classification Report"
   ]
  },
  {
   "cell_type": "code",
   "execution_count": 44,
   "id": "23652dc7",
   "metadata": {
    "execution": {
     "iopub.execute_input": "2022-05-28T19:28:01.747385Z",
     "iopub.status.busy": "2022-05-28T19:28:01.746226Z",
     "iopub.status.idle": "2022-05-28T19:28:28.597900Z",
     "shell.execute_reply": "2022-05-28T19:28:28.598673Z"
    },
    "papermill": {
     "duration": 39.017765,
     "end_time": "2022-05-28T19:28:28.598847",
     "exception": false,
     "start_time": "2022-05-28T19:27:49.581082",
     "status": "completed"
    },
    "tags": [],
    "pycharm": {
     "name": "#%%\n"
    }
   },
   "outputs": [
    {
     "name": "stdout",
     "output_type": "stream",
     "text": [
      "              precision    recall  f1-score   support\n",
      "\n",
      "           0       0.81      0.81      0.81     79800\n",
      "           1       0.81      0.80      0.81     80200\n",
      "\n",
      "    accuracy                           0.81    160000\n",
      "   macro avg       0.81      0.81      0.81    160000\n",
      "weighted avg       0.81      0.81      0.81    160000\n",
      "\n"
     ]
    }
   ],
   "source": [
    "predictions = hybrid_cnn_lstm_model.predict(X_test)\n",
    "predictions = np.where(predictions<0.5, 0, 1)\n",
    "\n",
    "print(classification_report(y_test, predictions))"
   ]
  }
 ],
 "metadata": {
  "kernelspec": {
   "display_name": "Python 3",
   "language": "python",
   "name": "python3"
  },
  "language_info": {
   "codemirror_mode": {
    "name": "ipython",
    "version": 3
   },
   "file_extension": ".py",
   "mimetype": "text/x-python",
   "name": "python",
   "nbconvert_exporter": "python",
   "pygments_lexer": "ipython3",
   "version": "3.7.10"
  },
  "papermill": {
   "default_parameters": {},
   "duration": 3401.111763,
   "end_time": "2022-05-28T19:28:43.850053",
   "environment_variables": {},
   "exception": null,
   "input_path": "__notebook__.ipynb",
   "output_path": "__notebook__.ipynb",
   "parameters": {},
   "start_time": "2022-05-28T18:32:02.738290",
   "version": "2.3.3"
  }
 },
 "nbformat": 4,
 "nbformat_minor": 5
}